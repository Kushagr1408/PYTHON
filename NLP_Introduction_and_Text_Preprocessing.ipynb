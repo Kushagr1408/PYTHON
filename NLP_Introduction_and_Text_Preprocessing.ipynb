{
  "cells": [
    {
      "cell_type": "markdown",
      "id": "3d62d983",
      "metadata": {
        "id": "3d62d983"
      },
      "source": [
        "## NLP Introduction and Text Preprocessing"
      ]
    },
    {
      "cell_type": "code",
      "execution_count": null,
      "id": "e74f8a2f",
      "metadata": {
        "id": "e74f8a2f"
      },
      "outputs": [],
      "source": [
        "# Q1. What is the primary goal of Natural Language Processing (NLP)?\n",
        "\n",
        "# answer\n",
        "# Enable computers to understand, interpret, and generate human language for useful tasks (translation, QA, summarization, etc.).\n"
      ]
    },
    {
      "cell_type": "code",
      "execution_count": null,
      "id": "d7810c3a",
      "metadata": {
        "id": "d7810c3a"
      },
      "outputs": [],
      "source": [
        "# Q2. What does \"tokenization\" refer to in text processing?\n",
        "\n",
        "# answer\n",
        "# Splitting text into smaller units (tokens) such as words or sentences for further processing.\n"
      ]
    },
    {
      "cell_type": "code",
      "execution_count": null,
      "id": "837102b7",
      "metadata": {
        "id": "837102b7"
      },
      "outputs": [],
      "source": [
        "# Q3. What is the difference between lemmatization and stemming?\n",
        "\n",
        "# answer\n",
        "# Stemming crudely trims word endings; lemmatization returns the dictionary base form using vocabulary and POS.\n"
      ]
    },
    {
      "cell_type": "code",
      "execution_count": null,
      "id": "caf83fed",
      "metadata": {
        "id": "caf83fed"
      },
      "outputs": [],
      "source": [
        "# Q4. What is the role of regular expressions (regex) in text processing?\n",
        "\n",
        "# answer\n",
        "# Pattern matching for cleaning, extraction (emails, URLs), and text normalization tasks.\n"
      ]
    },
    {
      "cell_type": "code",
      "execution_count": null,
      "id": "3019c70d",
      "metadata": {
        "id": "3019c70d"
      },
      "outputs": [],
      "source": [
        "# Q5. What is Word2Vec and how does it represent words in a vector space?\n",
        "\n",
        "# answer\n",
        "# A neural method that learns dense continuous vectors so semantically similar words are close in vector space.\n"
      ]
    },
    {
      "cell_type": "code",
      "execution_count": null,
      "id": "1ce202be",
      "metadata": {
        "id": "1ce202be"
      },
      "outputs": [],
      "source": [
        "# Q6. How does frequency distribution help in text analysis?\n",
        "\n",
        "# answer\n",
        "# Shows term occurrence counts; useful for exploratory analysis, stopword detection, and feature selection.\n"
      ]
    },
    {
      "cell_type": "code",
      "execution_count": null,
      "id": "a76a2cdb",
      "metadata": {
        "id": "a76a2cdb"
      },
      "outputs": [],
      "source": [
        "# Q7. Why is text normalization important in NLP?\n",
        "\n",
        "# answer\n",
        "# Reduces variability (case, punctuation) to create consistent tokens and improve model performance.\n"
      ]
    },
    {
      "cell_type": "code",
      "execution_count": null,
      "id": "03e16d8a",
      "metadata": {
        "id": "03e16d8a"
      },
      "outputs": [],
      "source": [
        "# Q8. What is the difference between sentence tokenization and word tokenization?\n",
        "\n",
        "# answer\n",
        "# Sentence tokenization splits text into sentences; word tokenization splits sentences into words/tokens.\n"
      ]
    },
    {
      "cell_type": "code",
      "execution_count": null,
      "id": "35082cb2",
      "metadata": {
        "id": "35082cb2"
      },
      "outputs": [],
      "source": [
        "# Q9. What are co-occurrence vectors in NLP?\n",
        "\n",
        "# answer\n",
        "# Vectors capturing counts of words appearing together within a context window, representing relationships.\n"
      ]
    },
    {
      "cell_type": "code",
      "execution_count": null,
      "id": "b93da200",
      "metadata": {
        "id": "b93da200"
      },
      "outputs": [],
      "source": [
        "# Q10. What is the significance of lemmatization in improving NLP tasks?\n",
        "\n",
        "# answer\n",
        "# Reduces inflectional variants, lowering sparsity and improving matching across forms.\n"
      ]
    },
    {
      "cell_type": "code",
      "execution_count": null,
      "id": "6c93836a",
      "metadata": {
        "id": "6c93836a"
      },
      "outputs": [],
      "source": [
        "# Q11. What is the primary use of word embeddings in NLP?\n",
        "\n",
        "# answer\n",
        "# To provide dense numerical representations of words capturing semantics for ML models.\n"
      ]
    },
    {
      "cell_type": "code",
      "execution_count": null,
      "id": "9d11535f",
      "metadata": {
        "id": "9d11535f"
      },
      "outputs": [],
      "source": [
        "# Q12. What is an annotator in NLP?\n",
        "\n",
        "# answer\n",
        "# A component or tool that adds labels (POS, NER, syntax) to text for training or analysis.\n"
      ]
    },
    {
      "cell_type": "code",
      "execution_count": null,
      "id": "fe82b493",
      "metadata": {
        "id": "fe82b493"
      },
      "outputs": [],
      "source": [
        "# Q13. What are the key steps in text processing before applying machine learning models?\n",
        "\n",
        "# answer\n",
        "# Tokenization, cleaning, normalization, stopword removal, stemming/lemmatization, and vectorization.\n"
      ]
    },
    {
      "cell_type": "code",
      "execution_count": null,
      "id": "841d2050",
      "metadata": {
        "id": "841d2050"
      },
      "outputs": [],
      "source": [
        "# Q14. What is the history of NLP and how has it evolved?\n",
        "\n",
        "# answer\n",
        "# From rule-based systems to statistical ML to modern deep learning (embeddings, transformers).\n"
      ]
    },
    {
      "cell_type": "code",
      "execution_count": null,
      "id": "6e780152",
      "metadata": {
        "id": "6e780152"
      },
      "outputs": [],
      "source": [
        "# Q15. Why is sentence processing important in NLP?\n",
        "\n",
        "# answer\n",
        "# It keeps local context needed for tasks like parsing, translation, and sentence-level classification.\n"
      ]
    },
    {
      "cell_type": "code",
      "execution_count": null,
      "id": "21b30d53",
      "metadata": {
        "id": "21b30d53"
      },
      "outputs": [],
      "source": [
        "# Q16. How do word embeddings improve the understanding of language semantics in NLP?\n",
        "\n",
        "# answer\n",
        "# By encoding semantic relatedness and syntactic properties in dense vectors.\n"
      ]
    },
    {
      "cell_type": "code",
      "execution_count": null,
      "id": "ec6dde29",
      "metadata": {
        "id": "ec6dde29"
      },
      "outputs": [],
      "source": [
        "# Q17. How does the frequency distribution of words help in text classification?\n",
        "\n",
        "# answer\n",
        "# Highlights discriminative words and supports feature engineering and selection.\n"
      ]
    },
    {
      "cell_type": "code",
      "execution_count": null,
      "id": "0e0fcc02",
      "metadata": {
        "id": "0e0fcc02"
      },
      "outputs": [],
      "source": [
        "# Q18. What are the advantages of using regex in text cleaning?\n",
        "\n",
        "# answer\n",
        "# Regex is flexible, fast for pattern-based cleaning and extraction.\n"
      ]
    },
    {
      "cell_type": "code",
      "execution_count": null,
      "id": "cb989328",
      "metadata": {
        "id": "cb989328"
      },
      "outputs": [],
      "source": [
        "# Q19. What is the difference between word2vec and doc2vec?\n",
        "\n",
        "# answer\n",
        "# Word2Vec produces word vectors; Doc2Vec produces document vectors.\n"
      ]
    },
    {
      "cell_type": "code",
      "execution_count": null,
      "id": "cd0527c9",
      "metadata": {
        "id": "cd0527c9"
      },
      "outputs": [],
      "source": [
        "# Q20. Why is understanding text normalization important in NLP?\n",
        "\n",
        "# answer\n",
        "# Normalization reduces noise and makes downstream features more consistent.\n"
      ]
    },
    {
      "cell_type": "code",
      "execution_count": null,
      "id": "fbf806e6",
      "metadata": {
        "id": "fbf806e6"
      },
      "outputs": [],
      "source": [
        "# Q21. How does word count help in text analysis?\n",
        "\n",
        "# answer\n",
        "# Provides simple frequency features for analysis and basic models.\n"
      ]
    },
    {
      "cell_type": "code",
      "execution_count": null,
      "id": "fd923fb8",
      "metadata": {
        "id": "fd923fb8"
      },
      "outputs": [],
      "source": [
        "# Q22. How does lemmatization help in NLP tasks like search engines and chatbots?\n",
        "\n",
        "# answer\n",
        "# Maps inflected words to base forms so queries and intents match more reliably.\n"
      ]
    },
    {
      "cell_type": "code",
      "execution_count": null,
      "id": "583c2844",
      "metadata": {
        "id": "583c2844"
      },
      "outputs": [],
      "source": [
        "# Q23. What is the purpose of using Doc2Vec in text processing?\n",
        "\n",
        "# answer\n",
        "# To get fixed-size vectors representing whole documents for retrieval and classification.\n"
      ]
    },
    {
      "cell_type": "code",
      "execution_count": null,
      "id": "b3a604ae",
      "metadata": {
        "id": "b3a604ae"
      },
      "outputs": [],
      "source": [
        "# Q24. What is the importance of sentence processing in NLP?\n",
        "\n",
        "# answer\n",
        "# Preserves sentence-level meaning and structure important for many tasks.\n"
      ]
    },
    {
      "cell_type": "code",
      "execution_count": null,
      "id": "c11f26c3",
      "metadata": {
        "id": "c11f26c3"
      },
      "outputs": [],
      "source": [
        "# Q25. What is text normalization, and what are the common techniques used in it?\n",
        "\n",
        "# answer\n",
        "# Lowercasing, removing punctuation, expanding contractions, and unicode normalization.\n"
      ]
    },
    {
      "cell_type": "code",
      "execution_count": null,
      "id": "1fb45b5b",
      "metadata": {
        "id": "1fb45b5b"
      },
      "outputs": [],
      "source": [
        "# Q26. Why is word tokenization important in NLP?\n",
        "\n",
        "# answer\n",
        "# It defines tokens used for feature extraction, embeddings and analysis.\n"
      ]
    },
    {
      "cell_type": "code",
      "execution_count": null,
      "id": "471f4f08",
      "metadata": {
        "id": "471f4f08"
      },
      "outputs": [],
      "source": [
        "# Q27. How does sentence tokenization differ from word tokenization in NLP?\n",
        "\n",
        "# answer\n",
        "# They operate at different granularities and are used in different preprocessing steps.\n"
      ]
    },
    {
      "cell_type": "code",
      "execution_count": null,
      "id": "81631dc8",
      "metadata": {
        "id": "81631dc8"
      },
      "outputs": [],
      "source": [
        "# Q28. What is the primary purpose of text processing in NLP?\n",
        "\n",
        "# answer\n",
        "# To convert raw text into structured features suitable for ML models.\n"
      ]
    },
    {
      "cell_type": "code",
      "execution_count": null,
      "id": "e1a2c0f3",
      "metadata": {
        "id": "e1a2c0f3"
      },
      "outputs": [],
      "source": [
        "# Q29. What are the key challenges in NLP?\n",
        "\n",
        "# answer\n",
        "# Ambiguity, data sparsity, domain shift, multilinguality, and contextual understanding.\n"
      ]
    },
    {
      "cell_type": "code",
      "execution_count": null,
      "id": "14d6e280",
      "metadata": {
        "id": "14d6e280"
      },
      "outputs": [],
      "source": [
        "# Q30. How do co-occurrence vectors represent relationships between words?\n",
        "\n",
        "# answer\n",
        "# By counting nearby word occurrences; association metrics like PMI quantify relationships.\n"
      ]
    },
    {
      "cell_type": "code",
      "execution_count": null,
      "id": "7be49845",
      "metadata": {
        "id": "7be49845"
      },
      "outputs": [],
      "source": [
        "# Q31. What is the role of frequency distribution in text analysis?\n",
        "\n",
        "# answer\n",
        "# Reveals common terms and guides feature selection and cleaning decisions.\n"
      ]
    },
    {
      "cell_type": "code",
      "execution_count": null,
      "id": "1a8d3b93",
      "metadata": {
        "id": "1a8d3b93"
      },
      "outputs": [],
      "source": [
        "# Q32. What is the impact of word embeddings on NLP tasks?\n",
        "\n",
        "# answer\n",
        "# They improved generalization and enabled semantic-aware features.\n"
      ]
    },
    {
      "cell_type": "code",
      "execution_count": null,
      "id": "bbe6b248",
      "metadata": {
        "id": "bbe6b248"
      },
      "outputs": [],
      "source": [
        "# Q33. What is the purpose of using lemmatization in text preprocessing?\n",
        "\n",
        "# answer\n",
        "# To reduce vocabulary size and group inflected forms under base lemmas.\n"
      ]
    },
    {
      "cell_type": "markdown",
      "id": "8308bce8",
      "metadata": {
        "id": "8308bce8"
      },
      "source": [
        "## Practical"
      ]
    },
    {
      "cell_type": "code",
      "execution_count": 2,
      "id": "2e0c3d90",
      "metadata": {
        "id": "2e0c3d90",
        "colab": {
          "base_uri": "https://localhost:8080/"
        },
        "outputId": "f97154c1-f4d9-4588-8439-88930064de13"
      },
      "outputs": [
        {
          "output_type": "stream",
          "name": "stderr",
          "text": [
            "[nltk_data] Downloading package punkt to /root/nltk_data...\n",
            "[nltk_data]   Package punkt is already up-to-date!\n",
            "[nltk_data] Downloading package punkt_tab to /root/nltk_data...\n",
            "[nltk_data]   Unzipping tokenizers/punkt_tab.zip.\n"
          ]
        },
        {
          "output_type": "stream",
          "name": "stdout",
          "text": [
            "['Natural', 'Language', 'Processing', 'with', 'NLTK', 'is', 'fun', 'and', 'powerful', '.']\n"
          ]
        }
      ],
      "source": [
        "# Q1. How can you perform word tokenization using NLTK\n",
        "\n",
        "#code >\n",
        "import nltk\n",
        "from nltk.tokenize import word_tokenize\n",
        "\n",
        "# Download required data\n",
        "nltk.download('punkt')\n",
        "nltk.download('punkt_tab')  # Newly required in recent NLTK versions\n",
        "\n",
        "# Sample text\n",
        "text = \"Natural Language Processing with NLTK is fun and powerful.\"\n",
        "\n",
        "# Perform word tokenization\n",
        "tokens = word_tokenize(text)\n",
        "\n",
        "#example >\n",
        "print(tokens)"
      ]
    },
    {
      "cell_type": "code",
      "execution_count": 3,
      "id": "e703f177",
      "metadata": {
        "id": "e703f177",
        "colab": {
          "base_uri": "https://localhost:8080/"
        },
        "outputId": "3022ea0e-9f25-4d02-e849-8d6cc4d95aa4"
      },
      "outputs": [
        {
          "output_type": "stream",
          "name": "stdout",
          "text": [
            "['Natural Language Processing with NLTK is fun.', 'It allows sentence and word tokenization.']\n"
          ]
        },
        {
          "output_type": "stream",
          "name": "stderr",
          "text": [
            "[nltk_data] Downloading package punkt to /root/nltk_data...\n",
            "[nltk_data]   Package punkt is already up-to-date!\n",
            "[nltk_data] Downloading package punkt_tab to /root/nltk_data...\n",
            "[nltk_data]   Package punkt_tab is already up-to-date!\n"
          ]
        }
      ],
      "source": [
        "# Q2. How can you perform sentence tokenization using NLTK\n",
        "\n",
        "#code >\n",
        "import nltk\n",
        "from nltk.tokenize import sent_tokenize\n",
        "\n",
        "# Download required data\n",
        "nltk.download('punkt')\n",
        "nltk.download('punkt_tab')  # Prevents punkt_tab error in new NLTK versions\n",
        "\n",
        "# Sample text\n",
        "text = \"Natural Language Processing with NLTK is fun. It allows sentence and word tokenization.\"\n",
        "\n",
        "# Perform sentence tokenization\n",
        "sentences = sent_tokenize(text)\n",
        "\n",
        "#example >\n",
        "print(sentences)"
      ]
    },
    {
      "cell_type": "code",
      "execution_count": 4,
      "id": "acfef5b3",
      "metadata": {
        "id": "acfef5b3",
        "colab": {
          "base_uri": "https://localhost:8080/"
        },
        "outputId": "534ea13d-bc0e-4f2f-e848-abcf2751fe4c"
      },
      "outputs": [
        {
          "output_type": "stream",
          "name": "stderr",
          "text": [
            "[nltk_data] Downloading package punkt to /root/nltk_data...\n",
            "[nltk_data]   Package punkt is already up-to-date!\n",
            "[nltk_data] Downloading package punkt_tab to /root/nltk_data...\n",
            "[nltk_data]   Package punkt_tab is already up-to-date!\n",
            "[nltk_data] Downloading package stopwords to /root/nltk_data...\n"
          ]
        },
        {
          "output_type": "stream",
          "name": "stdout",
          "text": [
            "['example', 'showing', 'remove', 'stopwords', 'sentence', 'using', 'NLTK', '.']\n"
          ]
        },
        {
          "output_type": "stream",
          "name": "stderr",
          "text": [
            "[nltk_data]   Unzipping corpora/stopwords.zip.\n"
          ]
        }
      ],
      "source": [
        "# Q3. How can you remove stopwords from a sentence\n",
        "\n",
        "#code >\n",
        "import nltk\n",
        "from nltk.corpus import stopwords\n",
        "from nltk.tokenize import word_tokenize\n",
        "\n",
        "# Download required datasets\n",
        "nltk.download('punkt')\n",
        "nltk.download('punkt_tab')  # Fix for newer NLTK versions\n",
        "nltk.download('stopwords')\n",
        "\n",
        "# Sample sentence\n",
        "sentence = \"This is an example showing how to remove stopwords from a sentence using NLTK.\"\n",
        "\n",
        "# Tokenize the sentence\n",
        "words = word_tokenize(sentence)\n",
        "\n",
        "# Get English stopwords\n",
        "stop_words = set(stopwords.words('english'))\n",
        "\n",
        "# Remove stopwords\n",
        "filtered_words = [word for word in words if word.lower() not in stop_words]\n",
        "\n",
        "#example >\n",
        "print(filtered_words)"
      ]
    },
    {
      "cell_type": "code",
      "execution_count": null,
      "id": "b1d59012",
      "metadata": {
        "id": "b1d59012",
        "colab": {
          "base_uri": "https://localhost:8080/"
        },
        "outputId": "34df2b60-54c0-44f3-c947-346b5673b4a1"
      },
      "outputs": [
        {
          "output_type": "stream",
          "name": "stdout",
          "text": [
            "run\n"
          ]
        }
      ],
      "source": [
        "# Q4. How can you perform stemming on a word\n",
        "\n",
        "# code >\n",
        "import nltk\n",
        "nltk.download('punkt', quiet=True)\n",
        "from nltk.stem import PorterStemmer\n",
        "\n",
        "def stem_word(word):\n",
        "    ps = PorterStemmer()\n",
        "    return ps.stem(word)\n",
        "\n",
        "# example\n",
        "print(stem_word(\"running\"))"
      ]
    },
    {
      "cell_type": "code",
      "execution_count": null,
      "id": "a47b5397",
      "metadata": {
        "id": "a47b5397",
        "colab": {
          "base_uri": "https://localhost:8080/"
        },
        "outputId": "4ebc3fa2-8789-435e-f1e4-ec9635cf1b20"
      },
      "outputs": [
        {
          "output_type": "stream",
          "name": "stdout",
          "text": [
            "run\n"
          ]
        }
      ],
      "source": [
        "# Q5. How can you perform lemmatization on a word\n",
        "\n",
        "# code >\n",
        "import nltk\n",
        "nltk.download('wordnet', quiet=True)\n",
        "nltk.download('omw-1.4', quiet=True)\n",
        "from nltk.stem import WordNetLemmatizer\n",
        "\n",
        "def lemmatize_word(word, pos='n'):\n",
        "    wn = WordNetLemmatizer()\n",
        "    return wn.lemmatize(word, pos=pos)\n",
        "\n",
        "# example\n",
        "print(lemmatize_word(\"running\", pos='v'))"
      ]
    },
    {
      "cell_type": "code",
      "execution_count": null,
      "id": "27141479",
      "metadata": {
        "id": "27141479",
        "colab": {
          "base_uri": "https://localhost:8080/"
        },
        "outputId": "595dc1e2-971c-4665-c27c-a0e6cf051884"
      },
      "outputs": [
        {
          "output_type": "stream",
          "name": "stdout",
          "text": [
            "hello world this is sample text\n"
          ]
        }
      ],
      "source": [
        "# Q6. How can you normalize a text by converting it to lowercase and removing punctuation\n",
        "\n",
        "# code >\n",
        "import re\n",
        "def normalize_text(text):\n",
        "    text = text.lower()\n",
        "    text = re.sub(r'[^a-z0-9\\s]', '', text)\n",
        "    text = re.sub(r'\\s+', ' ', text).strip()\n",
        "    return text\n",
        "\n",
        "# example\n",
        "print(normalize_text(\"Hello, World! This is SAMPLE text.\"))"
      ]
    },
    {
      "cell_type": "code",
      "execution_count": null,
      "id": "eb854293",
      "metadata": {
        "id": "eb854293",
        "colab": {
          "base_uri": "https://localhost:8080/"
        },
        "outputId": "7fb14d2a-a9c3-419f-d1c0-618c77135551"
      },
      "outputs": [
        {
          "output_type": "stream",
          "name": "stdout",
          "text": [
            "(array([[0, 1, 0, 0, 0],\n",
            "       [1, 0, 1, 0, 0],\n",
            "       [0, 1, 0, 1, 0],\n",
            "       [0, 0, 1, 0, 1],\n",
            "       [0, 0, 0, 1, 0]]), {'i': 0, 'love': 1, 'nlp': 2, 'is': 3, 'fun': 4})\n"
          ]
        }
      ],
      "source": [
        "# Q7. How can you create a co-occurrence matrix for words in a corpus\n",
        "\n",
        "# code >\n",
        "import numpy as np\n",
        "from collections import defaultdict\n",
        "\n",
        "def cooccurrence_matrix(corpus, window=1):\n",
        "    vocab = {}\n",
        "    idx = 0\n",
        "    for sent in corpus:\n",
        "        for token in sent:\n",
        "            if token not in vocab:\n",
        "                vocab[token] = idx\n",
        "                idx += 1\n",
        "    V = len(vocab)\n",
        "    mat = np.zeros((V, V), dtype=int)\n",
        "    for sent in corpus:\n",
        "        for i, token in enumerate(sent):\n",
        "            for j in range(max(0, i-window), min(len(sent), i+window+1)):\n",
        "                if i == j: continue\n",
        "                mat[vocab[token], vocab[sent[j]]] += 1\n",
        "    return mat, vocab\n",
        "\n",
        "# example\n",
        "corpus = [['i','love','nlp'], ['nlp','is','fun']]\n",
        "print(cooccurrence_matrix(corpus, window=1))"
      ]
    },
    {
      "cell_type": "code",
      "execution_count": null,
      "id": "4d14210d",
      "metadata": {
        "id": "4d14210d",
        "colab": {
          "base_uri": "https://localhost:8080/"
        },
        "outputId": "00b9e2d0-c7ad-4cc5-a388-526437cfa978"
      },
      "outputs": [
        {
          "output_type": "stream",
          "name": "stdout",
          "text": [
            "['test@example.com', 'admin@domain.org']\n"
          ]
        }
      ],
      "source": [
        "# Q8. How can you apply a regular expression to extract all email addresses from a text\n",
        "\n",
        "# code >\n",
        "import re\n",
        "def extract_emails(text):\n",
        "    pattern = r'[a-zA-Z0-9._%+-]+@[a-zA-Z0-9.-]+\\.[a-zA-Z]{2,}'\n",
        "    return re.findall(pattern, text)\n",
        "\n",
        "# example\n",
        "print(extract_emails(\"Contact us at test@example.com or admin@domain.org\"))"
      ]
    },
    {
      "cell_type": "code",
      "execution_count": 1,
      "id": "b2216b96",
      "metadata": {
        "id": "b2216b96",
        "colab": {
          "base_uri": "https://localhost:8080/"
        },
        "outputId": "05a9f319-398c-430a-bfdd-24cbb2c8a781"
      },
      "outputs": [
        {
          "output_type": "stream",
          "name": "stdout",
          "text": [
            "Vector for 'word2vec':\n",
            "[ 0.00805391  0.00869487  0.01991474 -0.00894748 -0.00277853 -0.01463464\n",
            " -0.01939566 -0.01816051 -0.00204551 -0.01300658  0.00969946 -0.01232805\n",
            "  0.00503837  0.00147888 -0.00678431 -0.00195845  0.01995825  0.01829177\n",
            " -0.00892366  0.01816605 -0.01128353  0.01186184 -0.00619444  0.0068635\n",
            "  0.00603445  0.01380092 -0.00474777  0.01755007  0.01517886 -0.01909529\n",
            " -0.01601642 -0.01527579  0.00584651 -0.00558944 -0.01385904 -0.01625653\n",
            "  0.01661836  0.00398098 -0.01865603 -0.00958543  0.00627348 -0.00942641\n",
            "  0.01056169 -0.00846688  0.00528359 -0.01609137  0.01241977  0.00963778\n",
            "  0.00157439  0.0060269 ]\n"
          ]
        }
      ],
      "source": [
        "# Q9. How can you perform word embedding using Word2Vec\n",
        "\n",
        "#code >\n",
        "from gensim.models import Word2Vec\n",
        "\n",
        "# Sample corpus\n",
        "sentences = [\n",
        "    [\"this\", \"is\", \"a\", \"sample\", \"sentence\"],\n",
        "    [\"word2vec\", \"is\", \"a\", \"word\", \"embedding\", \"technique\"],\n",
        "    [\"we\", \"are\", \"learning\", \"nlp\"]\n",
        "]\n",
        "\n",
        "# Train a Word2Vec model\n",
        "model = Word2Vec(sentences, vector_size=50, window=3, min_count=1, sg=0)  # sg=0 means CBOW model\n",
        "\n",
        "# Get the vector for a specific word\n",
        "vector = model.wv['word2vec']\n",
        "\n",
        "#example >\n",
        "print(\"Vector for 'word2vec':\")\n",
        "print(vector)"
      ]
    },
    {
      "cell_type": "code",
      "execution_count": 2,
      "id": "9f89ef41",
      "metadata": {
        "id": "9f89ef41",
        "colab": {
          "base_uri": "https://localhost:8080/"
        },
        "outputId": "1b77fb27-6eef-4131-efc0-fe53821dec12"
      },
      "outputs": [
        {
          "output_type": "stream",
          "name": "stdout",
          "text": [
            "[-0.02617465 -0.02991903 -0.04944214  0.04279845  0.01784391  0.00131578\n",
            " -0.04944142 -0.02585304 -0.0486283   0.01006166  0.01416314  0.02323591\n",
            " -0.02150346 -0.01574047 -0.01540617 -0.04364383  0.01087098  0.04616427\n",
            " -0.04754711 -0.01730448]\n"
          ]
        }
      ],
      "source": [
        "# Q10. How can you use Doc2Vec to embed documents\n",
        "\n",
        "# code >\n",
        "# Requires: pip install gensim\n",
        "from gensim.models.doc2vec import Doc2Vec, TaggedDocument\n",
        "\n",
        "def train_doc2vec(docs, vector_size=50, epochs=20):\n",
        "    tagged = [TaggedDocument(words=d.split(), tags=[str(i)]) for i, d in enumerate(docs)]\n",
        "    model = Doc2Vec(tagged, vector_size=vector_size, epochs=epochs, min_count=1)\n",
        "    return model\n",
        "\n",
        "# example\n",
        "d2v = train_doc2vec(['this is doc one', 'another doc'], vector_size=20, epochs=10)\n",
        "print(d2v.dv['0'])"
      ]
    },
    {
      "cell_type": "code",
      "execution_count": 5,
      "id": "61955808",
      "metadata": {
        "id": "61955808",
        "colab": {
          "base_uri": "https://localhost:8080/"
        },
        "outputId": "2a52402c-30fe-4149-f847-e50f85d91c1b"
      },
      "outputs": [
        {
          "output_type": "stream",
          "name": "stderr",
          "text": [
            "[nltk_data] Downloading package punkt to /root/nltk_data...\n",
            "[nltk_data]   Package punkt is already up-to-date!\n",
            "[nltk_data] Downloading package punkt_tab to /root/nltk_data...\n",
            "[nltk_data]   Package punkt_tab is already up-to-date!\n",
            "[nltk_data] Downloading package averaged_perceptron_tagger_eng to\n",
            "[nltk_data]     /root/nltk_data...\n",
            "[nltk_data]   Unzipping taggers/averaged_perceptron_tagger_eng.zip.\n"
          ]
        },
        {
          "output_type": "stream",
          "name": "stdout",
          "text": [
            "Part-of-Speech Tags:\n",
            "[('NLTK', 'NNP'), ('is', 'VBZ'), ('a', 'DT'), ('great', 'JJ'), ('library', 'NN'), ('for', 'IN'), ('text', 'NN'), ('processing', 'NN')]\n"
          ]
        }
      ],
      "source": [
        "# Q11. How can you perform part-of-speech tagging\n",
        "\n",
        "#code >\n",
        "import nltk\n",
        "nltk.download('punkt')\n",
        "nltk.download('punkt_tab')\n",
        "nltk.download('averaged_perceptron_tagger_eng')\n",
        "\n",
        "# Sample sentence\n",
        "text = \"NLTK is a great library for text processing\"\n",
        "\n",
        "# Tokenize sentence\n",
        "words = nltk.word_tokenize(text)\n",
        "\n",
        "# Perform POS tagging\n",
        "pos_tags = nltk.pos_tag(words)\n",
        "\n",
        "#example >\n",
        "print(\"Part-of-Speech Tags:\")\n",
        "print(pos_tags)"
      ]
    },
    {
      "cell_type": "code",
      "execution_count": null,
      "id": "e4fdc0e7",
      "metadata": {
        "id": "e4fdc0e7",
        "colab": {
          "base_uri": "https://localhost:8080/"
        },
        "outputId": "e60c196b-046b-462a-f4c4-5e662e768a5f"
      },
      "outputs": [
        {
          "output_type": "stream",
          "name": "stdout",
          "text": [
            "0.7765145304745156\n"
          ]
        }
      ],
      "source": [
        "# Q12. How can you find the similarity between two sentences using cosine similarity\n",
        "\n",
        "# code >\n",
        "from sklearn.feature_extraction.text import TfidfVectorizer\n",
        "from sklearn.metrics.pairwise import cosine_similarity\n",
        "\n",
        "def sentence_cosine_similarity(s1, s2):\n",
        "    vect = TfidfVectorizer().fit_transform([s1, s2])\n",
        "    return cosine_similarity(vect[0:1], vect[1:2])[0][0]\n",
        "\n",
        "# example\n",
        "print(sentence_cosine_similarity(\"This is a test\", \"This test is simple\"))"
      ]
    },
    {
      "cell_type": "code",
      "execution_count": null,
      "id": "a5567fcb",
      "metadata": {
        "id": "a5567fcb",
        "colab": {
          "base_uri": "https://localhost:8080/"
        },
        "outputId": "dad1915a-9898-4644-b9af-68d81dca1dde"
      },
      "outputs": [
        {
          "output_type": "stream",
          "name": "stdout",
          "text": [
            "[('Barack Obama', 'PERSON'), ('Hawaii', 'GPE')]\n"
          ]
        }
      ],
      "source": [
        "# Q13. How can you extract named entities from a sentence\n",
        "\n",
        "# code >\n",
        "# Requires: pip install spacy && python -m spacy download en_core_web_sm\n",
        "import spacy\n",
        "def extract_entities(text, model_name='en_core_web_sm'):\n",
        "    nlp = spacy.load(model_name)\n",
        "    doc = nlp(text)\n",
        "    return [(ent.text, ent.label_) for ent in doc.ents]\n",
        "\n",
        "# example\n",
        "print(extract_entities(\"Barack Obama was born in Hawaii.\"))"
      ]
    },
    {
      "cell_type": "code",
      "execution_count": null,
      "id": "74f993d8",
      "metadata": {
        "id": "74f993d8",
        "colab": {
          "base_uri": "https://localhost:8080/"
        },
        "outputId": "0be595b4-1817-420a-f31c-60d67b7fb0f9"
      },
      "outputs": [
        {
          "output_type": "stream",
          "name": "stdout",
          "text": [
            "['This is a sample large text This is a sample', 'large text This is a sample large text This is']\n"
          ]
        }
      ],
      "source": [
        "# Q14. How can you split a large document into smaller chunks of text\n",
        "\n",
        "# code >\n",
        "def chunk_text(text, chunk_size=200):\n",
        "    words = text.split()\n",
        "    for i in range(0, len(words), chunk_size):\n",
        "        yield \" \".join(words[i:i+chunk_size])\n",
        "\n",
        "# example\n",
        "print(list(chunk_text(\"This is a sample large text \" * 50, chunk_size=10))[:2])"
      ]
    },
    {
      "cell_type": "code",
      "execution_count": null,
      "id": "1d4a3051",
      "metadata": {
        "id": "1d4a3051",
        "colab": {
          "base_uri": "https://localhost:8080/"
        },
        "outputId": "a98cab59-c471-4ab1-fa2c-3b157843e40b"
      },
      "outputs": [
        {
          "output_type": "stream",
          "name": "stdout",
          "text": [
            "['another' 'doc' 'is' 'this']\n"
          ]
        }
      ],
      "source": [
        "# Q15. How can you calculate the TF-IDF (Term Frequency - Inverse Document Frequency) for a set of documents\n",
        "\n",
        "# code >\n",
        "from sklearn.feature_extraction.text import TfidfVectorizer\n",
        "\n",
        "def compute_tfidf(docs):\n",
        "    vect = TfidfVectorizer()\n",
        "    tfidf = vect.fit_transform(docs)\n",
        "    return tfidf, vect.get_feature_names_out()\n",
        "\n",
        "# example\n",
        "tfidf, feature_names = compute_tfidf([\"this is a doc\", \"this is another doc\"])\n",
        "print(feature_names)"
      ]
    },
    {
      "cell_type": "code",
      "execution_count": 6,
      "id": "cfd34a93",
      "metadata": {
        "id": "cfd34a93",
        "colab": {
          "base_uri": "https://localhost:8080/"
        },
        "outputId": "314795ef-0350-4294-9dc1-bd6ed6635319"
      },
      "outputs": [
        {
          "output_type": "stream",
          "name": "stdout",
          "text": [
            "['exampl', 'show', 'token', 'stopword', 'remov', 'stem']\n"
          ]
        }
      ],
      "source": [
        "# Q16. How can you apply tokenization, stopword removal, and stemming in one go\n",
        "\n",
        "# code >\n",
        "import nltk\n",
        "nltk.download('punkt', quiet=True)\n",
        "nltk.download('stopwords', quiet=True)\n",
        "from nltk.corpus import stopwords\n",
        "from nltk.stem import PorterStemmer\n",
        "from nltk.tokenize import word_tokenize\n",
        "\n",
        "def full_preprocess(text):\n",
        "    ps = PorterStemmer()\n",
        "    stops = set(stopwords.words('english'))\n",
        "    tokens = word_tokenize(text.lower())\n",
        "    return [ps.stem(t) for t in tokens if t.isalpha() and t not in stops]\n",
        "\n",
        "# example\n",
        "print(full_preprocess(\"This is an example showing tokenization, stopwords removal, and stemming.\"))"
      ]
    },
    {
      "cell_type": "code",
      "execution_count": 7,
      "id": "8964f3a5",
      "metadata": {
        "id": "8964f3a5",
        "colab": {
          "base_uri": "https://localhost:8080/",
          "height": 452
        },
        "outputId": "e1bfd36b-5e64-477c-92c9-bea896f7156b"
      },
      "outputs": [
        {
          "output_type": "display_data",
          "data": {
            "text/plain": [
              "<Figure size 640x480 with 1 Axes>"
            ],
            "image/png": "[encoded data removed]"
          },
          "metadata": {}
        }
      ],
      "source": [
        "# Q17. How can you visualize the frequency distribution of words in a sentence?\n",
        "\n",
        "# code >\n",
        "import matplotlib.pyplot as plt\n",
        "from collections import Counter\n",
        "from nltk.tokenize import word_tokenize\n",
        "\n",
        "def plot_freq_distribution(text, top_n=10):\n",
        "    tokens = [t.lower() for t in word_tokenize(text) if t.isalpha()]\n",
        "    freq = Counter(tokens)\n",
        "    common = freq.most_common(top_n)\n",
        "    words, counts = zip(*common) if common else ([],[])\n",
        "    plt.bar(words, counts)\n",
        "    plt.title(\"Top words frequency\")\n",
        "    plt.show()\n",
        "\n",
        "# example\n",
        "plot_freq_distribution(\"This is a sample sentence with sample words sample sample.\")"
      ]
    },
    {
      "cell_type": "code",
      "source": [],
      "metadata": {
        "id": "AjHhnstbwM9b"
      },
      "id": "AjHhnstbwM9b",
      "execution_count": null,
      "outputs": []
    }
  ],
  "metadata": {
    "colab": {
      "provenance": []
    },
    "language_info": {
      "name": "python"
    },
    "kernelspec": {
      "name": "python3",
      "display_name": "Python 3"
    }
  },
  "nbformat": 4,
  "nbformat_minor": 5
}