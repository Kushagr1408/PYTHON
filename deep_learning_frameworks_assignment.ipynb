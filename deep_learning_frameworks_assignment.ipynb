{
 "cells": [
  {
   "cell_type": "markdown",
   "id": "4b413c84-bccb-4915-b5aa-487be5e77577",
   "metadata": {},
   "source": [
    "                                Deep Learning Frameworks"
   ]
  },
  {
   "cell_type": "code",
   "execution_count": null,
   "id": "826d6622-7937-4167-bde1-b30d3befe777",
   "metadata": {},
   "outputs": [],
   "source": [
    "1.What is TensorFlow 2.0, and how is it different from TensorFlow 1.x?\n",
    "\n",
    "TensorFlow 2.0 is a major upgrade with simplified APIs, eager execution (default),\n",
    "and better support for Keras. Unlike TensorFlow 1.x, it prioritizes user-friendliness,\n",
    "reducing boilerplate code."
   ]
  },
  {
   "cell_type": "code",
   "execution_count": null,
   "id": "b09bab40-adf6-45c5-aa79-b7a8a0b64f95",
   "metadata": {},
   "outputs": [],
   "source": [
    "2.How do you install TensorFlow 2.0?\n",
    "\n",
    "Run the following command in Python:\n",
    "\n",
    "pip install tensorflow"
   ]
  },
  {
   "cell_type": "code",
   "execution_count": null,
   "id": "778b3628-1826-4952-b884-fd8d6870cd72",
   "metadata": {},
   "outputs": [],
   "source": [
    "3.What is the primary function of the tf.function in TensorFlow 2.0?\n",
    "\n",
    "The tf.function decorator converts a Python function into a TensorFlow graph,\n",
    "optimizing performance and enabling it to run efficiently."
   ]
  },
  {
   "cell_type": "code",
   "execution_count": null,
   "id": "ca198b41-2c32-4501-be32-3ef09efe32c5",
   "metadata": {},
   "outputs": [],
   "source": [
    "4.What is the purpose of the Model class in TensorFlow 2.0?\n",
    "\n",
    "The Model class is used to define neural networks and manage training,\n",
    "evaluation, and prediction processes. It provides a high-level abstraction\n",
    "for models built with the Keras API."
   ]
  },
  {
   "cell_type": "code",
   "execution_count": null,
   "id": "c8e4f5f6-76c1-445a-aeea-cffa2121acb4",
   "metadata": {},
   "outputs": [],
   "source": [
    "5.How do you create a neural network using TensorFlow 2.0?\n",
    "\n",
    "Example:\n",
    "\n",
    "import tensorflow as tf\n",
    "\n",
    "model = tf.keras.Sequential([\n",
    "    tf.keras.layers.Dense(64, activation='relu'),\n",
    "    tf.keras.layers.Dense(10, activation='softmax')\n",
    "])\n",
    "model.compile(optimizer='adam', loss='sparse_categorical_crossentropy', metrics=['accuracy'])"
   ]
  },
  {
   "cell_type": "code",
   "execution_count": null,
   "id": "de6adb40-d12e-4916-8400-ee6a8e649741",
   "metadata": {},
   "outputs": [],
   "source": [
    "6.What is the importance of Tensor Space in TensorFlow?\n",
    "\n",
    "TensorSpace provides a 3D visual interface for understanding and interacting with neural networks,\n",
    "allowing developers to better understand model behavior."
   ]
  },
  {
   "cell_type": "code",
   "execution_count": null,
   "id": "d4f9c965-5767-45eb-a8d2-68429411e021",
   "metadata": {},
   "outputs": [],
   "source": [
    "7.How can TensorBoard be integrated with TensorFlow 2.0?\n",
    "\n",
    "TensorBoard can be used for visualizing training metrics. Example:\n",
    "\n",
    "tensorboard_callback = tf.keras.callbacks.TensorBoard(log_dir='./logs')\n",
    "model.fit(X_train, y_train, epochs=10, callbacks=[tensorboard_callback])"
   ]
  },
  {
   "cell_type": "code",
   "execution_count": null,
   "id": "da240a5e-487d-474b-8bb8-85ae121f4ef8",
   "metadata": {},
   "outputs": [],
   "source": [
    "8.What is the purpose of TensorFlow Playground?\n",
    "\n",
    "TensorFlow Playground is a web-based tool for visualizing and experimenting with \n",
    "simple neural networks, helping users learn about their behavior interactively."
   ]
  },
  {
   "cell_type": "code",
   "execution_count": null,
   "id": "e82cb3fd-fc44-47ea-86ee-2ff93e0cddf6",
   "metadata": {},
   "outputs": [],
   "source": [
    "9.What is Netron, and how is it useful for deep learning models?\n",
    "\n",
    "Netron is a tool for visualizing and debugging machine learning models,\n",
    "including TensorFlow, PyTorch, and ONNX models. It displays the architecture, \n",
    "layers, and parameter details."
   ]
  },
  {
   "cell_type": "code",
   "execution_count": null,
   "id": "99fcf325-2f26-42ba-8899-8e1975abe160",
   "metadata": {},
   "outputs": [],
   "source": [
    "10.What is the difference between TensorFlow and PyTorch?\n",
    "\n",
    "TensorFlow uses static computation graphs (with an option for eager execution), \n",
    "while PyTorch uses dynamic computation graphs.\n",
    "    \n",
    "PyTorch is often preferred for research due to its flexibility, \n",
    "whereas TensorFlow is widely used for deployment and production."
   ]
  },
  {
   "cell_type": "code",
   "execution_count": null,
   "id": "2ba76c97-0319-4d6e-9263-7b5f4aec8063",
   "metadata": {},
   "outputs": [],
   "source": [
    "11.How do you install PyTorch?\n",
    "\n",
    "Use the official PyTorch website (https://pytorch.org/) to choose the appropriate installation \n",
    "command for your platform and requirements. For example:\n",
    "\n",
    "pip install torch torchvision torchaudio"
   ]
  },
  {
   "cell_type": "code",
   "execution_count": null,
   "id": "0f80f389-7b9f-4cb8-b114-5f39b5765452",
   "metadata": {},
   "outputs": [],
   "source": [
    "12.What is the basic structure of a PyTorch neural network?\n",
    "\n",
    "A PyTorch neural network is typically created by subclassing the nn.Module class. Example:\n",
    "    \n",
    "import torch.nn as nn\n",
    "\n",
    "class NeuralNetwork(nn.Module):\n",
    "    def __init__(self):\n",
    "        super(NeuralNetwork, self).__init__()\n",
    "        self.fc1 = nn.Linear(784, 128)\n",
    "        self.fc2 = nn.Linear(128, 10)\n",
    "    \n",
    "    def forward(self, x):\n",
    "        x = torch.relu(self.fc1(x))\n",
    "        x = self.fc2(x)\n",
    "        return x"
   ]
  },
  {
   "cell_type": "code",
   "execution_count": null,
   "id": "6e05234c-2106-4d8a-ad7f-ee502492cdf1",
   "metadata": {},
   "outputs": [],
   "source": [
    "13.What is the significance of tensors in PyTorch?\n",
    "\n",
    "Tensors are the fundamental data structure in PyTorch, similar to NumPy arrays,\n",
    "but optimized for GPU acceleration. They allow efficient numerical computations \n",
    "for deep learning tasks."
   ]
  },
  {
   "cell_type": "code",
   "execution_count": null,
   "id": "cb40d707-b842-414a-9818-58f0284f9ff9",
   "metadata": {},
   "outputs": [],
   "source": [
    "14.What is the difference between torch.Tensor and torch.cuda.Tensor in PyTorch?\n",
    "\n",
    "torch.Tensor resides on the CPU and is used for computations that do not require GPU acceleration.\n",
    "torch.cuda.Tensor resides on the GPU, allowing faster computations by utilizing GPU cores."
   ]
  },
  {
   "cell_type": "code",
   "execution_count": null,
   "id": "8ccb346d-2c97-466b-9b35-6a0b25159485",
   "metadata": {},
   "outputs": [],
   "source": [
    "15.What is the purpose of the torch.optim module in PyTorch?\n",
    "\n",
    "The torch.optim module provides optimization algorithms like SGD, Adam, \n",
    "and RMSprop to minimize loss functions and improve model performance during training."
   ]
  },
  {
   "cell_type": "code",
   "execution_count": null,
   "id": "d95f71a8-ebd2-457b-995b-4ba89581670a",
   "metadata": {},
   "outputs": [],
   "source": [
    "16.What are some common activation functions used in neural networks?\n",
    "\n",
    "Common activation functions include:\n",
    "\n",
    "ReLU (torch.relu)\n",
    "Sigmoid (torch.sigmoid)\n",
    "Tanh (torch.tanh)\n",
    "Softmax (torch.nn.Softmax)"
   ]
  },
  {
   "cell_type": "code",
   "execution_count": null,
   "id": "7823c194-8e57-4a97-a6f5-7bfe6a8b8d1e",
   "metadata": {},
   "outputs": [],
   "source": [
    "17.What is the difference between torch.nn.Module and torch.nn.Sequential in PyTorch?\n",
    "\n",
    "torch.nn.Module: Allows custom neural networks by defining layers and a forward() method.\n",
    "torch.nn.Sequential: A simpler way to stack layers sequentially, where forward propagation is handled\n",
    "automatically. Example:\n",
    "\n",
    "model = nn.Sequential(\n",
    "    nn.Linear(784, 128),\n",
    "    nn.ReLU(),\n",
    "    nn.Linear(128, 10)\n",
    ")"
   ]
  },
  {
   "cell_type": "code",
   "execution_count": null,
   "id": "9c4d22e6-4bd7-4e00-b012-c5d908c30af4",
   "metadata": {},
   "outputs": [],
   "source": [
    "18.How can you monitor training progress in TensorFlow 2.0?\n",
    "\n",
    "Use callbacks like TensorBoard or custom logging. Example:\n",
    "\n",
    "class TrainingLogger(tf.keras.callbacks.Callback):\n",
    "    def on_epoch_end(self, epoch, logs=None):\n",
    "        print(f\"Epoch {epoch}, Loss: {logs['loss']}, Accuracy: {logs['accuracy']}\")\n",
    "model.fit(X_train, y_train, epochs=10, callbacks=[TrainingLogger()])"
   ]
  },
  {
   "cell_type": "code",
   "execution_count": null,
   "id": "7d00bdb9-9c4d-43a7-ac7a-7766465302c7",
   "metadata": {},
   "outputs": [],
   "source": [
    "19.How does the Keras API fit into TensorFlow 2.0?\n",
    "\n",
    "Keras is integrated into TensorFlow 2.0 as its high-level API for building, training,\n",
    "and deploying deep learning models."
   ]
  },
  {
   "cell_type": "code",
   "execution_count": null,
   "id": "08e10f25-8ca9-4cdc-828b-ff47cde2da03",
   "metadata": {},
   "outputs": [],
   "source": [
    "20.What is an example of a deep learning project that can be implemented using TensorFlow 2.0?\n",
    "\n",
    "A common example is building a Convolutional Neural Network (CNN) for image classification on the\n",
    "MNIST dataset:\n",
    "\n",
    "model = tf.keras.Sequential([\n",
    "    tf.keras.layers.Conv2D(32, (3, 3), activation='relu', input_shape=(28, 28, 1)),\n",
    "    tf.keras.layers.MaxPooling2D((2, 2)),\n",
    "    tf.keras.layers.Flatten(),\n",
    "    tf.keras.layers.Dense(128, activation='relu'),\n",
    "    tf.keras.layers.Dense(10, activation='softmax')\n",
    "])\n",
    "model.compile(optimizer='adam', loss='sparse_categorical_crossentropy', metrics=['accuracy'])"
   ]
  },
  {
   "cell_type": "code",
   "execution_count": null,
   "id": "8657c587-2210-495c-95e4-2756084c3be8",
   "metadata": {},
   "outputs": [],
   "source": [
    "21.What is the main advantage of using pre-trained models in TensorFlow and PyTorch?\n",
    "\n",
    "Pre-trained models save time and resources by leveraging models already trained on large datasets.\n",
    "They are especially useful for transfer learning, where only the last few layers are fine-tuned for\n",
    "a specific task."
   ]
  },
  {
   "cell_type": "markdown",
   "id": "b5d195fa-aed0-4073-a311-0b3fe7932ecf",
   "metadata": {},
   "source": [
    "                                           Practical"
   ]
  },
  {
   "cell_type": "code",
   "execution_count": null,
   "id": "1be0a5c4-c488-40b8-9fb2-91bc68bb4c92",
   "metadata": {},
   "outputs": [],
   "source": [
    "1.How do you install and verify that TensorFlow 2.0 was installed successfully?\n",
    "\n",
    "Installation:\n",
    "\n",
    "pip install tensorflow\n",
    "\n",
    "Verification:\n",
    "\n",
    "import tensorflow as tf\n",
    "print(tf.__version__)  # Should print a version >= 2.0"
   ]
  },
  {
   "cell_type": "code",
   "execution_count": null,
   "id": "c56624d7-094d-4cd2-b8cf-9da2c30a8484",
   "metadata": {},
   "outputs": [],
   "source": [
    "2.How can you define a simple function in TensorFlow 2.0 to perform addition?\n",
    "\n",
    "Example:\n",
    "\n",
    "import tensorflow as tf\n",
    "\n",
    "@tf.function\n",
    "def add_numbers(a, b):\n",
    "    return a + b\n",
    "\n",
    "result = add_numbers(5, 7)\n",
    "print(result.numpy())  # Output: 12"
   ]
  },
  {
   "cell_type": "code",
   "execution_count": null,
   "id": "853a7b94-c338-428b-a0dd-ffdc48716b30",
   "metadata": {},
   "outputs": [],
   "source": [
    "3.How can you create a simple neural network in TensorFlow 2.0 with one hidden layer?\n",
    "\n",
    "Example:\n",
    "\n",
    "from tensorflow.keras.models import Sequential\n",
    "from tensorflow.keras.layers import Dense\n",
    "\n",
    "model = Sequential([\n",
    "    Dense(64, activation='relu', input_shape=(10,)),  # Hidden layer\n",
    "    Dense(1, activation='sigmoid')  # Output layer\n",
    "])\n",
    "model.compile(optimizer='adam', loss='binary_crossentropy', metrics=['accuracy'])\n",
    "print(model.summary())"
   ]
  },
  {
   "cell_type": "code",
   "execution_count": null,
   "id": "d79ef02d-6020-4f48-a0d2-61e98749e1fa",
   "metadata": {},
   "outputs": [],
   "source": [
    "4.How can you visualize the training progress using TensorFlow and Matplotlib?\n",
    "\n",
    "Example:\n",
    "\n",
    "import matplotlib.pyplot as plt\n",
    "\n",
    "history = model.fit(X_train, y_train, epochs=10, validation_data=(X_val, y_val))\n",
    "\n",
    "# Plot accuracy\n",
    "plt.plot(history.history['accuracy'], label='Train Accuracy')\n",
    "plt.plot(history.history['val_accuracy'], label='Validation Accuracy')\n",
    "plt.xlabel('Epochs')\n",
    "plt.ylabel('Accuracy')\n",
    "plt.legend()\n",
    "plt.show()"
   ]
  },
  {
   "cell_type": "code",
   "execution_count": null,
   "id": "4594787b-0c76-49ab-8424-21cfd15211bb",
   "metadata": {},
   "outputs": [],
   "source": [
    "5.How do you save and load a TensorFlow model?\n",
    "\n",
    "Save Model:\n",
    "\n",
    "model.save('model.h5')\n",
    "\n",
    "Load Model:\n",
    "\n",
    "from tensorflow.keras.models import load_model\n",
    "loaded_model = load_model('model.h5')"
   ]
  },
  {
   "cell_type": "code",
   "execution_count": null,
   "id": "83470b22-3090-421b-afa4-da32653237e2",
   "metadata": {},
   "outputs": [],
   "source": [
    "6.How do you install PyTorch and verify the PyTorch installation?\n",
    "\n",
    "Installation:\n",
    "Use the official PyTorch website (https://pytorch.org/) to select the right installation command.\n",
    "Example:\n",
    "\n",
    "pip install torch torchvision torchaudio\n",
    "\n",
    "Verification:\n",
    "\n",
    "import torch\n",
    "print(torch.__version__)  # Prints the PyTorch version\n",
    "print(torch.cuda.is_available())  # Checks if GPU is available"
   ]
  },
  {
   "cell_type": "code",
   "execution_count": null,
   "id": "00c096bb-de35-4976-b797-dc7fc6067d54",
   "metadata": {},
   "outputs": [],
   "source": [
    "7.How do you create a simple neural network in PyTorch?\n",
    "\n",
    "Example:\n",
    "\n",
    "import torch.nn as nn\n",
    "\n",
    "class SimpleNN(nn.Module):\n",
    "    def __init__(self):\n",
    "        super(SimpleNN, self).__init__()\n",
    "        self.hidden = nn.Linear(10, 64)  # Input: 10 features, Hidden: 64 nodes\n",
    "        self.output = nn.Linear(64, 1)  # Output: 1 node\n",
    "    \n",
    "    def forward(self, x):\n",
    "        x = torch.relu(self.hidden(x))\n",
    "        x = torch.sigmoid(self.output(x))\n",
    "        return x\n",
    "model = SimpleNN()\n",
    "print(model)"
   ]
  },
  {
   "cell_type": "code",
   "execution_count": null,
   "id": "06d43a75-b3eb-449b-8b0c-12abde5edd57",
   "metadata": {},
   "outputs": [],
   "source": [
    "8.How do you define a loss function and optimizer in PyTorch?\n",
    "\n",
    "import torch.optim as optim\n",
    "\n",
    "criterion = nn.BCELoss()  # Binary Cross Entropy Loss\n",
    "optimizer = optim.Adam(model.parameters(), lr=0.001)"
   ]
  },
  {
   "cell_type": "code",
   "execution_count": null,
   "id": "f993dba2-cebe-4206-befd-138653cf8efe",
   "metadata": {},
   "outputs": [],
   "source": [
    "9.How do you implement a custom loss function in PyTorch?\n",
    "\n",
    "Example:\n",
    "\n",
    "class CustomLoss(nn.Module):\n",
    "    def __init__(self):\n",
    "        super(CustomLoss, self).__init__()\n",
    "    \n",
    "    def forward(self, y_pred, y_true):\n",
    "        return torch.mean((y_pred - y_true) ** 2)  # Mean Squared Error\n",
    "\n",
    "custom_loss = CustomLoss()"
   ]
  }
 ],
 "metadata": {
  "kernelspec": {
   "display_name": "Python 3 (ipykernel)",
   "language": "python",
   "name": "python3"
  },
  "language_info": {
   "codemirror_mode": {
    "name": "ipython",
    "version": 3
   },
   "file_extension": ".py",
   "mimetype": "text/x-python",
   "name": "python",
   "nbconvert_exporter": "python",
   "pygments_lexer": "ipython3",
   "version": "3.12.4"
  }
 },
 "nbformat": 4,
 "nbformat_minor": 5
}
