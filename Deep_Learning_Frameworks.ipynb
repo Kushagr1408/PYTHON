{
  "cells": [
    {
      "cell_type": "markdown",
      "id": "30e8ba49",
      "metadata": {
        "id": "30e8ba49"
      },
      "source": [
        "Deep Learning Frameworks"
      ]
    },
    {
      "cell_type": "code",
      "execution_count": null,
      "id": "e2dc28a0",
      "metadata": {
        "id": "e2dc28a0"
      },
      "outputs": [],
      "source": [
        "# Q1. What is TensorFlow 2.0, and how is it different from TensorFlow 1.x?\n",
        "\n",
        "# # answer\n",
        "# TensorFlow 2.0 is a major update to TensorFlow that offers eager execution by default, better Keras integration,\n",
        "# intuitive higher-level APIs, and simplified model building. Unlike TensorFlow 1.x, which required graph construction\n",
        "# and sessions, TF 2.0 allows more Pythonic and interactive programming using standard control flows."
      ]
    },
    {
      "cell_type": "code",
      "execution_count": null,
      "id": "d4f84475",
      "metadata": {
        "id": "d4f84475"
      },
      "outputs": [],
      "source": [
        "# Q2. How do you install TensorFlow 2.0?\n",
        "\n",
        "# answer\n",
        "# Use pip:\n",
        "# pip install tensorflow==2.0.0\n",
        "# You can also install the latest stable version with:\n",
        "# pip install tensorflow"
      ]
    },
    {
      "cell_type": "code",
      "execution_count": null,
      "id": "788cef7a",
      "metadata": {
        "id": "788cef7a"
      },
      "outputs": [],
      "source": [
        "# Q3. What is the primary function of the tf.function in TensorFlow 2.0?\n",
        "\n",
        "# answer\n",
        "# `tf.function` converts a Python function into a high-performance TensorFlow graph.\n",
        "# This allows you to write code as if you're using eager execution but still gain performance benefits of graph execution."
      ]
    },
    {
      "cell_type": "code",
      "execution_count": null,
      "id": "3b8a0f87",
      "metadata": {
        "id": "3b8a0f87"
      },
      "outputs": [],
      "source": [
        "# Q4. What is the purpose of the Model class in TensorFlow 2.0?\n",
        "\n",
        "# answer\n",
        "# The `Model` class in TensorFlow 2.0 (from `tf.keras.Model`) is used as a base class to define custom neural networks.\n",
        "# It allows you to group layers together and define a forward pass using the `call()` method."
      ]
    },
    {
      "cell_type": "code",
      "execution_count": null,
      "id": "e9ac1f44",
      "metadata": {
        "id": "e9ac1f44"
      },
      "outputs": [],
      "source": [
        "# Q5. How do you create a neural network using TensorFlow 2.0?\n",
        "\n",
        "# answer\n",
        "# You can use the `Sequential` API from tf.keras:\n",
        "# from tensorflow.keras.models import Sequential\n",
        "# from tensorflow.keras.layers import Dense\n",
        "# model = Sequential([\n",
        "#     Dense(64, activation='relu', input_shape=(10,)),\n",
        "#     Dense(1, activation='sigmoid')\n",
        "# ])"
      ]
    },
    {
      "cell_type": "code",
      "execution_count": null,
      "id": "4b63bdf4",
      "metadata": {
        "id": "4b63bdf4"
      },
      "outputs": [],
      "source": [
        "# Q6. What is the importance of Tensor Space in TensorFlow?\n",
        "\n",
        "# answer\n",
        "# Tensor space refers to the multidimensional structure in which data (tensors) are stored and manipulated.\n",
        "# TensorFlow operates heavily on tensors (scalars, vectors, matrices, and higher-dimensional data),\n",
        "# making it the foundation of all computations in the framework."
      ]
    },
    {
      "cell_type": "code",
      "execution_count": null,
      "id": "01fe1ffe",
      "metadata": {
        "id": "01fe1ffe"
      },
      "outputs": [],
      "source": [
        "# Q7. How can TensorBoard be integrated with TensorFlow 2.0?\n",
        "\n",
        "# answer\n",
        "# TensorBoard is integrated using callbacks:\n",
        "# from tensorflow.keras.callbacks import TensorBoard\n",
        "# log_dir = \"logs\"\n",
        "# tb_callback = TensorBoard(log_dir=log_dir)\n",
        "# model.fit(X, y, callbacks=[tb_callback])\n",
        "# Then run:\n",
        "# tensorboard --logdir=logs"
      ]
    },
    {
      "cell_type": "code",
      "execution_count": null,
      "id": "d03a957f",
      "metadata": {
        "id": "d03a957f"
      },
      "outputs": [],
      "source": [
        "# Q8. What is the purpose of TensorFlow Playground?\n",
        "\n",
        "# answer\n",
        "# TensorFlow Playground is a web-based tool that helps users visually understand how neural networks work.\n",
        "# It allows experimentation with architectures and hyperparameters without writing code.\n",
        "# URL: https://playground.tensorflow.org/"
      ]
    },
    {
      "cell_type": "code",
      "execution_count": null,
      "id": "c9a71d6b",
      "metadata": {
        "id": "c9a71d6b"
      },
      "outputs": [],
      "source": [
        "# Q9. What is Netron, and how is it useful for deep learning models?\n",
        "\n",
        "# answer\n",
        "# Netron is a viewer for neural network, deep learning, and machine learning models.\n",
        "# It supports models from TensorFlow, PyTorch, Keras, ONNX, and others.\n",
        "# Useful for visualizing model architecture and debugging."
      ]
    },
    {
      "cell_type": "code",
      "execution_count": null,
      "id": "c3c614f2",
      "metadata": {
        "id": "c3c614f2"
      },
      "outputs": [],
      "source": [
        "# Q10. What is the difference between TensorFlow and PyTorch?\n",
        "\n",
        "# answer\n",
        "# TensorFlow uses static computation graphs (with tf.function) while PyTorch uses dynamic graphs (define-by-run).\n",
        "# PyTorch is often considered more Pythonic and easier for research; TensorFlow is widely used in production."
      ]
    },
    {
      "cell_type": "code",
      "execution_count": null,
      "id": "25446948",
      "metadata": {
        "id": "25446948"
      },
      "outputs": [],
      "source": [
        "# Q11. How do you install PyTorch?\n",
        "\n",
        "# answer\n",
        "# Use the official website: https://pytorch.org/\n",
        "# For pip:\n",
        "# pip install torch torchvision"
      ]
    },
    {
      "cell_type": "code",
      "execution_count": null,
      "id": "d5a678f0",
      "metadata": {
        "id": "d5a678f0"
      },
      "outputs": [],
      "source": [
        "# Q12. What is the basic structure of a PyTorch neural network?\n",
        "\n",
        "# answer\n",
        "# PyTorch models subclass `nn.Module`:\n",
        "# import torch.nn as nn\n",
        "# class Net(nn.Module):\n",
        "#     def __init__(self):\n",
        "#         super(Net, self).__init__()\n",
        "#         self.fc1 = nn.Linear(10, 5)\n",
        "#         self.fc2 = nn.Linear(5, 1)\n",
        "#     def forward(self, x):\n",
        "#         return self.fc2(torch.relu(self.fc1(x)))"
      ]
    },
    {
      "cell_type": "code",
      "execution_count": null,
      "id": "c83c96d2",
      "metadata": {
        "id": "c83c96d2"
      },
      "outputs": [],
      "source": [
        "# Q13. What is the significance of tensors in PyTorch?\n",
        "\n",
        "# answer\n",
        "# Tensors are the core data structure in PyTorch. They represent multi-dimensional arrays and support GPU acceleration.\n",
        "# All computations are based on tensors."
      ]
    },
    {
      "cell_type": "code",
      "execution_count": null,
      "id": "3a0cc295",
      "metadata": {
        "id": "3a0cc295"
      },
      "outputs": [],
      "source": [
        "# Q14. What is the difference between torch.Tensor and torch.cuda.Tensor in PyTorch?\n",
        "\n",
        "# answer\n",
        "# `torch.Tensor` resides in CPU memory by default.\n",
        "# `torch.cuda.Tensor` resides on GPU. Moving a tensor to GPU: tensor.to('cuda')"
      ]
    },
    {
      "cell_type": "code",
      "execution_count": null,
      "id": "768fcf82",
      "metadata": {
        "id": "768fcf82"
      },
      "outputs": [],
      "source": [
        "# Q15. What is the purpose of the torch.optim module in PyTorch?\n",
        "\n",
        "# answer\n",
        "# `torch.optim` provides implementations of optimization algorithms like SGD, Adam, etc.\n",
        "# Used to update model weights during training."
      ]
    },
    {
      "cell_type": "code",
      "execution_count": null,
      "id": "4789a824",
      "metadata": {
        "id": "4789a824"
      },
      "outputs": [],
      "source": [
        "# Q16. What are some common activation functions used in neural networks?\n",
        "\n",
        "# answer\n",
        "# - Sigmoid\n",
        "# - Tanh\n",
        "# - ReLU\n",
        "# - Leaky ReLU\n",
        "# - Softmax\n",
        "# Each function has different properties suited to tasks like classification or regression."
      ]
    },
    {
      "cell_type": "code",
      "execution_count": null,
      "id": "379b1f39",
      "metadata": {
        "id": "379b1f39"
      },
      "outputs": [],
      "source": [
        "# Q17. What is the difference between torch.nn.Module and torch.nn.Sequential in PyTorch?\n",
        "\n",
        "# answer\n",
        "# `nn.Module` gives full control and requires defining forward().\n",
        "# `nn.Sequential` is simpler but limited to linear stack of layers without conditional logic."
      ]
    },
    {
      "cell_type": "code",
      "execution_count": null,
      "id": "4d363c46",
      "metadata": {
        "id": "4d363c46"
      },
      "outputs": [],
      "source": [
        "# Q18. How can you monitor training progress in TensorFlow 2.0?\n",
        "\n",
        "# answer\n",
        "# Use callbacks like `TensorBoard`, `EarlyStopping`, or print metrics using the `verbose=1` option in model.fit()."
      ]
    },
    {
      "cell_type": "code",
      "execution_count": null,
      "id": "aaf120df",
      "metadata": {
        "id": "aaf120df"
      },
      "outputs": [],
      "source": [
        "# Q19. How does the Keras API fit into TensorFlow 2.0?\n",
        "\n",
        "# answer\n",
        "# Keras is the high-level API of TensorFlow 2.0. It provides easy-to-use methods to build, train, and deploy models.\n",
        "# Imported as `tf.keras`."
      ]
    },
    {
      "cell_type": "code",
      "execution_count": null,
      "id": "f2743a9f",
      "metadata": {
        "id": "f2743a9f"
      },
      "outputs": [],
      "source": [
        "# Q20. What is an example of a deep learning project that can be implemented using TensorFlow 2.0?\n",
        "\n",
        "# answer\n",
        "# Example: Image classification using CNN on CIFAR-10 dataset with tf.keras."
      ]
    },
    {
      "cell_type": "code",
      "execution_count": null,
      "id": "9d369d54",
      "metadata": {
        "id": "9d369d54"
      },
      "outputs": [],
      "source": [
        "# Q21. What is the main advantage of using pre-trained models in TensorFlow and PyTorch?\n",
        "\n",
        "# answer\n",
        "# Pre-trained models allow transfer learning. You can use already-trained weights to solve similar problems,\n",
        "# saving training time and resources."
      ]
    },
    {
      "cell_type": "markdown",
      "id": "43a275b4",
      "metadata": {
        "id": "43a275b4"
      },
      "source": [
        "Practical"
      ]
    },
    {
      "cell_type": "code",
      "execution_count": 2,
      "id": "095e02fa",
      "metadata": {
        "colab": {
          "base_uri": "https://localhost:8080/"
        },
        "id": "095e02fa",
        "outputId": "06a57272-40ea-41df-b173-08a6895a86cc"
      },
      "outputs": [
        {
          "output_type": "stream",
          "name": "stdout",
          "text": [
            "TensorFlow version: 2.18.0\n"
          ]
        }
      ],
      "source": [
        "# Q1. How do you install and verify that TensorFlow 2.0 was installed successfully?\n",
        "\n",
        "#code >\n",
        "# For Colab, TensorFlow is already installed. Just verify it:\n",
        "import tensorflow as tf\n",
        "\n",
        "#example\n",
        "print(\"TensorFlow version:\", tf.__version__)"
      ]
    },
    {
      "cell_type": "code",
      "execution_count": 3,
      "id": "d68abb39",
      "metadata": {
        "colab": {
          "base_uri": "https://localhost:8080/"
        },
        "id": "d68abb39",
        "outputId": "16ebece4-be26-4637-bf37-f0566c65484c"
      },
      "outputs": [
        {
          "output_type": "stream",
          "name": "stdout",
          "text": [
            "tf.Tensor(8, shape=(), dtype=int32)\n"
          ]
        }
      ],
      "source": [
        "# Q2. How can you define a simple function in TensorFlow 2.0 to perform addition?\n",
        "\n",
        "#code >\n",
        "import tensorflow as tf\n",
        "\n",
        "@tf.function\n",
        "def add(a, b):\n",
        "    return a + b\n",
        "\n",
        "\n",
        "#example\n",
        "print(add(tf.constant(5), tf.constant(3)))"
      ]
    },
    {
      "cell_type": "code",
      "execution_count": 4,
      "id": "3c71c00c",
      "metadata": {
        "colab": {
          "base_uri": "https://localhost:8080/",
          "height": 193
        },
        "id": "3c71c00c",
        "outputId": "77ac6c95-90c4-46a7-dce0-6a44c1f16c12"
      },
      "outputs": [
        {
          "output_type": "display_data",
          "data": {
            "text/plain": [
              "\u001b[1mModel: \"sequential_1\"\u001b[0m\n"
            ],
            "text/html": [
              "<pre style=\"white-space:pre;overflow-x:auto;line-height:normal;font-family:Menlo,'DejaVu Sans Mono',consolas,'Courier New',monospace\"><span style=\"font-weight: bold\">Model: \"sequential_1\"</span>\n",
              "</pre>\n"
            ]
          },
          "metadata": {}
        },
        {
          "output_type": "display_data",
          "data": {
            "text/plain": [
              "┏━━━━━━━━━━━━━━━━━━━━━━━━━━━━━━━━━┳━━━━━━━━━━━━━━━━━━━━━━━━┳━━━━━━━━━━━━━━━┓\n",
              "┃\u001b[1m \u001b[0m\u001b[1mLayer (type)                   \u001b[0m\u001b[1m \u001b[0m┃\u001b[1m \u001b[0m\u001b[1mOutput Shape          \u001b[0m\u001b[1m \u001b[0m┃\u001b[1m \u001b[0m\u001b[1m      Param #\u001b[0m\u001b[1m \u001b[0m┃\n",
              "┡━━━━━━━━━━━━━━━━━━━━━━━━━━━━━━━━━╇━━━━━━━━━━━━━━━━━━━━━━━━╇━━━━━━━━━━━━━━━┩\n",
              "│ dense_2 (\u001b[38;5;33mDense\u001b[0m)                 │ (\u001b[38;5;45mNone\u001b[0m, \u001b[38;5;34m16\u001b[0m)             │           \u001b[38;5;34m144\u001b[0m │\n",
              "├─────────────────────────────────┼────────────────────────┼───────────────┤\n",
              "│ dense_3 (\u001b[38;5;33mDense\u001b[0m)                 │ (\u001b[38;5;45mNone\u001b[0m, \u001b[38;5;34m1\u001b[0m)              │            \u001b[38;5;34m17\u001b[0m │\n",
              "└─────────────────────────────────┴────────────────────────┴───────────────┘\n"
            ],
            "text/html": [
              "<pre style=\"white-space:pre;overflow-x:auto;line-height:normal;font-family:Menlo,'DejaVu Sans Mono',consolas,'Courier New',monospace\">┏━━━━━━━━━━━━━━━━━━━━━━━━━━━━━━━━━┳━━━━━━━━━━━━━━━━━━━━━━━━┳━━━━━━━━━━━━━━━┓\n",
              "┃<span style=\"font-weight: bold\"> Layer (type)                    </span>┃<span style=\"font-weight: bold\"> Output Shape           </span>┃<span style=\"font-weight: bold\">       Param # </span>┃\n",
              "┡━━━━━━━━━━━━━━━━━━━━━━━━━━━━━━━━━╇━━━━━━━━━━━━━━━━━━━━━━━━╇━━━━━━━━━━━━━━━┩\n",
              "│ dense_2 (<span style=\"color: #0087ff; text-decoration-color: #0087ff\">Dense</span>)                 │ (<span style=\"color: #00d7ff; text-decoration-color: #00d7ff\">None</span>, <span style=\"color: #00af00; text-decoration-color: #00af00\">16</span>)             │           <span style=\"color: #00af00; text-decoration-color: #00af00\">144</span> │\n",
              "├─────────────────────────────────┼────────────────────────┼───────────────┤\n",
              "│ dense_3 (<span style=\"color: #0087ff; text-decoration-color: #0087ff\">Dense</span>)                 │ (<span style=\"color: #00d7ff; text-decoration-color: #00d7ff\">None</span>, <span style=\"color: #00af00; text-decoration-color: #00af00\">1</span>)              │            <span style=\"color: #00af00; text-decoration-color: #00af00\">17</span> │\n",
              "└─────────────────────────────────┴────────────────────────┴───────────────┘\n",
              "</pre>\n"
            ]
          },
          "metadata": {}
        },
        {
          "output_type": "display_data",
          "data": {
            "text/plain": [
              "\u001b[1m Total params: \u001b[0m\u001b[38;5;34m161\u001b[0m (644.00 B)\n"
            ],
            "text/html": [
              "<pre style=\"white-space:pre;overflow-x:auto;line-height:normal;font-family:Menlo,'DejaVu Sans Mono',consolas,'Courier New',monospace\"><span style=\"font-weight: bold\"> Total params: </span><span style=\"color: #00af00; text-decoration-color: #00af00\">161</span> (644.00 B)\n",
              "</pre>\n"
            ]
          },
          "metadata": {}
        },
        {
          "output_type": "display_data",
          "data": {
            "text/plain": [
              "\u001b[1m Trainable params: \u001b[0m\u001b[38;5;34m161\u001b[0m (644.00 B)\n"
            ],
            "text/html": [
              "<pre style=\"white-space:pre;overflow-x:auto;line-height:normal;font-family:Menlo,'DejaVu Sans Mono',consolas,'Courier New',monospace\"><span style=\"font-weight: bold\"> Trainable params: </span><span style=\"color: #00af00; text-decoration-color: #00af00\">161</span> (644.00 B)\n",
              "</pre>\n"
            ]
          },
          "metadata": {}
        },
        {
          "output_type": "display_data",
          "data": {
            "text/plain": [
              "\u001b[1m Non-trainable params: \u001b[0m\u001b[38;5;34m0\u001b[0m (0.00 B)\n"
            ],
            "text/html": [
              "<pre style=\"white-space:pre;overflow-x:auto;line-height:normal;font-family:Menlo,'DejaVu Sans Mono',consolas,'Courier New',monospace\"><span style=\"font-weight: bold\"> Non-trainable params: </span><span style=\"color: #00af00; text-decoration-color: #00af00\">0</span> (0.00 B)\n",
              "</pre>\n"
            ]
          },
          "metadata": {}
        }
      ],
      "source": [
        "# Q3. How can you create a simple neural network in TensorFlow 2.0 with one hidden layer?\n",
        "\n",
        "#code >\n",
        "from tensorflow.keras.models import Sequential\n",
        "from tensorflow.keras.layers import Dense\n",
        "\n",
        "# Define the model\n",
        "model = Sequential([\n",
        "    Dense(16, activation='relu', input_shape=(8,)),  # 1 hidden layer with 16 units\n",
        "    Dense(1, activation='sigmoid')                   # Output layer\n",
        "])\n",
        "\n",
        "# Compile the model\n",
        "model.compile(optimizer='adam', loss='binary_crossentropy', metrics=['accuracy'])\n",
        "\n",
        "#example\n",
        "# View model summary\n",
        "model.summary()"
      ]
    },
    {
      "cell_type": "code",
      "execution_count": null,
      "id": "09dd3262",
      "metadata": {
        "colab": {
          "base_uri": "https://localhost:8080/",
          "height": 472
        },
        "id": "09dd3262",
        "outputId": "1eeb172e-79ff-4eef-bfb0-05c6cf3c0a7b"
      },
      "outputs": [
        {
          "output_type": "display_data",
          "data": {
            "text/plain": [
              "<Figure size 640x480 with 1 Axes>"
            ],
            "image/png": "[encoded data removed]"
          },
          "metadata": {}
        }
      ],
      "source": [
        "# Q4. How can you visualize the training progress using TensorFlow and Matplotlib?\n",
        "\n",
        "#code >\n",
        "from tensorflow.keras.models import Sequential\n",
        "from tensorflow.keras.layers import Dense\n",
        "import matplotlib.pyplot as plt\n",
        "import numpy as np\n",
        "\n",
        "# Sample dataset\n",
        "X = np.random.rand(100, 5)\n",
        "y = np.random.randint(0, 2, 100)\n",
        "\n",
        "model = Sequential([\n",
        "    Dense(10, activation='relu', input_shape=(5,)),\n",
        "    Dense(1, activation='sigmoid')\n",
        "])\n",
        "\n",
        "model.compile(optimizer='adam', loss='binary_crossentropy', metrics=['accuracy'])\n",
        "\n",
        "# Plot\n",
        "\n",
        "#example\n",
        "history = model.fit(X, y, epochs=10, verbose=0)\n",
        "plt.plot(history.history['loss'])\n",
        "plt.title(\"Loss over Epochs\")\n",
        "plt.xlabel(\"Epoch\")\n",
        "plt.ylabel(\"Loss\")\n",
        "plt.grid(True)\n",
        "plt.show()"
      ]
    },
    {
      "cell_type": "code",
      "execution_count": 1,
      "id": "ebee9301",
      "metadata": {
        "colab": {
          "base_uri": "https://localhost:8080/"
        },
        "id": "ebee9301",
        "outputId": "05e5c6bb-602e-4da9-8482-de9179c80bc2"
      },
      "outputs": [
        {
          "output_type": "stream",
          "name": "stdout",
          "text": [
            "PyTorch version: 2.6.0+cu124\n",
            "CUDA available: True\n"
          ]
        }
      ],
      "source": [
        "# Q5. How do you install PyTorch and verify the PyTorch installation?\n",
        "\n",
        "#code >\n",
        "# PyTorch is already pre-installed in most environments like Colab or Kaggle.\n",
        "# Simply verify the version and CUDA support:\n",
        "import torch\n",
        "\n",
        "#example\n",
        "print(\"PyTorch version:\", torch.__version__)\n",
        "print(\"CUDA available:\", torch.cuda.is_available())"
      ]
    },
    {
      "cell_type": "code",
      "execution_count": null,
      "id": "22b9791e",
      "metadata": {
        "colab": {
          "base_uri": "https://localhost:8080/"
        },
        "id": "22b9791e",
        "outputId": "e06aeaa0-ea46-4c6e-dc01-c5bd29f6645a"
      },
      "outputs": [
        {
          "output_type": "stream",
          "name": "stdout",
          "text": [
            "SimpleNet(\n",
            "  (fc1): Linear(in_features=5, out_features=10, bias=True)\n",
            "  (fc2): Linear(in_features=10, out_features=1, bias=True)\n",
            ")\n"
          ]
        }
      ],
      "source": [
        "# Q6. How do you create a simple neural network in PyTorch?\n",
        "\n",
        "#code >\n",
        "import torch.nn as nn\n",
        "import torch\n",
        "\n",
        "class SimpleNet(nn.Module):\n",
        "    def __init__(self):\n",
        "        super(SimpleNet, self).__init__()\n",
        "        self.fc1 = nn.Linear(5, 10)\n",
        "        self.fc2 = nn.Linear(10, 1)\n",
        "\n",
        "    def forward(self, x):\n",
        "        x = torch.relu(self.fc1(x))\n",
        "        return torch.sigmoid(self.fc2(x))\n",
        "\n",
        "model = SimpleNet()\n",
        "\n",
        "#example\n",
        "print(model)"
      ]
    },
    {
      "cell_type": "code",
      "execution_count": 6,
      "id": "fc153e74",
      "metadata": {
        "id": "fc153e74",
        "colab": {
          "base_uri": "https://localhost:8080/"
        },
        "outputId": "46b24472-4c09-4e1a-9f43-52e02580933b"
      },
      "outputs": [
        {
          "output_type": "stream",
          "name": "stdout",
          "text": [
            "Loss function: MSELoss()\n",
            "Optimizer: Adam (\n",
            "Parameter Group 0\n",
            "    amsgrad: False\n",
            "    betas: (0.9, 0.999)\n",
            "    capturable: False\n",
            "    differentiable: False\n",
            "    eps: 1e-08\n",
            "    foreach: None\n",
            "    fused: None\n",
            "    lr: 0.001\n",
            "    maximize: False\n",
            "    weight_decay: 0\n",
            ")\n"
          ]
        }
      ],
      "source": [
        "# Q7. How do you define a loss function and optimizer in PyTorch?\n",
        "\n",
        "#code >\n",
        "import torch\n",
        "import torch.nn as nn\n",
        "import torch.optim as optim\n",
        "\n",
        "# Create a dummy model\n",
        "model = nn.Sequential(\n",
        "    nn.Linear(10, 5),\n",
        "    nn.ReLU(),\n",
        "    nn.Linear(5, 1)\n",
        ")\n",
        "\n",
        "# Define loss function\n",
        "loss_fn = nn.MSELoss()\n",
        "\n",
        "# Define optimizer\n",
        "optimizer = optim.Adam(model.parameters(), lr=0.001)\n",
        "\n",
        "#example\n",
        "# Print objects to confirm\n",
        "print(\"Loss function:\", loss_fn)\n",
        "print(\"Optimizer:\", optimizer)"
      ]
    },
    {
      "cell_type": "code",
      "execution_count": 8,
      "id": "be8f07b3",
      "metadata": {
        "id": "be8f07b3",
        "colab": {
          "base_uri": "https://localhost:8080/"
        },
        "outputId": "2ce04917-3f05-4290-984a-85c514f002b9"
      },
      "outputs": [
        {
          "output_type": "stream",
          "name": "stdout",
          "text": [
            "Custom Loss: 0.20000000298023224\n"
          ]
        }
      ],
      "source": [
        "# Q8. How do you implement a custom loss function in PyTorch?\n",
        "\n",
        "#code >\n",
        "import torch\n",
        "import torch.nn as nn\n",
        "\n",
        "# Define custom loss function by subclassing nn.Module\n",
        "class CustomLoss(nn.Module):\n",
        "    def __init__(self):\n",
        "        super(CustomLoss, self).__init__()\n",
        "\n",
        "    def forward(self, output, target):\n",
        "        # Example: Mean Absolute Error\n",
        "        return torch.mean(torch.abs(output - target))\n",
        "\n",
        "# Instantiate the loss function\n",
        "loss_fn = CustomLoss()\n",
        "\n",
        "# Dummy tensors\n",
        "output = torch.tensor([0.2, 0.7, 0.6])\n",
        "target = torch.tensor([0.0, 1.0, 0.5])\n",
        "\n",
        "#example\n",
        "# Compute loss\n",
        "print(\"Custom Loss:\", loss_fn(output, target).item())"
      ]
    },
    {
      "cell_type": "code",
      "execution_count": 5,
      "id": "dbf72691",
      "metadata": {
        "colab": {
          "base_uri": "https://localhost:8080/",
          "height": 193
        },
        "id": "dbf72691",
        "outputId": "9562038e-c47c-458b-bddf-fecc027ba1fa"
      },
      "outputs": [
        {
          "output_type": "display_data",
          "data": {
            "text/plain": [
              "\u001b[1mModel: \"sequential_3\"\u001b[0m\n"
            ],
            "text/html": [
              "<pre style=\"white-space:pre;overflow-x:auto;line-height:normal;font-family:Menlo,'DejaVu Sans Mono',consolas,'Courier New',monospace\"><span style=\"font-weight: bold\">Model: \"sequential_3\"</span>\n",
              "</pre>\n"
            ]
          },
          "metadata": {}
        },
        {
          "output_type": "display_data",
          "data": {
            "text/plain": [
              "┏━━━━━━━━━━━━━━━━━━━━━━━━━━━━━━━━━┳━━━━━━━━━━━━━━━━━━━━━━━━┳━━━━━━━━━━━━━━━┓\n",
              "┃\u001b[1m \u001b[0m\u001b[1mLayer (type)                   \u001b[0m\u001b[1m \u001b[0m┃\u001b[1m \u001b[0m\u001b[1mOutput Shape          \u001b[0m\u001b[1m \u001b[0m┃\u001b[1m \u001b[0m\u001b[1m      Param #\u001b[0m\u001b[1m \u001b[0m┃\n",
              "┡━━━━━━━━━━━━━━━━━━━━━━━━━━━━━━━━━╇━━━━━━━━━━━━━━━━━━━━━━━━╇━━━━━━━━━━━━━━━┩\n",
              "│ dense_6 (\u001b[38;5;33mDense\u001b[0m)                 │ (\u001b[38;5;45mNone\u001b[0m, \u001b[38;5;34m10\u001b[0m)             │            \u001b[38;5;34m60\u001b[0m │\n",
              "├─────────────────────────────────┼────────────────────────┼───────────────┤\n",
              "│ dense_7 (\u001b[38;5;33mDense\u001b[0m)                 │ (\u001b[38;5;45mNone\u001b[0m, \u001b[38;5;34m1\u001b[0m)              │            \u001b[38;5;34m11\u001b[0m │\n",
              "└─────────────────────────────────┴────────────────────────┴───────────────┘\n"
            ],
            "text/html": [
              "<pre style=\"white-space:pre;overflow-x:auto;line-height:normal;font-family:Menlo,'DejaVu Sans Mono',consolas,'Courier New',monospace\">┏━━━━━━━━━━━━━━━━━━━━━━━━━━━━━━━━━┳━━━━━━━━━━━━━━━━━━━━━━━━┳━━━━━━━━━━━━━━━┓\n",
              "┃<span style=\"font-weight: bold\"> Layer (type)                    </span>┃<span style=\"font-weight: bold\"> Output Shape           </span>┃<span style=\"font-weight: bold\">       Param # </span>┃\n",
              "┡━━━━━━━━━━━━━━━━━━━━━━━━━━━━━━━━━╇━━━━━━━━━━━━━━━━━━━━━━━━╇━━━━━━━━━━━━━━━┩\n",
              "│ dense_6 (<span style=\"color: #0087ff; text-decoration-color: #0087ff\">Dense</span>)                 │ (<span style=\"color: #00d7ff; text-decoration-color: #00d7ff\">None</span>, <span style=\"color: #00af00; text-decoration-color: #00af00\">10</span>)             │            <span style=\"color: #00af00; text-decoration-color: #00af00\">60</span> │\n",
              "├─────────────────────────────────┼────────────────────────┼───────────────┤\n",
              "│ dense_7 (<span style=\"color: #0087ff; text-decoration-color: #0087ff\">Dense</span>)                 │ (<span style=\"color: #00d7ff; text-decoration-color: #00d7ff\">None</span>, <span style=\"color: #00af00; text-decoration-color: #00af00\">1</span>)              │            <span style=\"color: #00af00; text-decoration-color: #00af00\">11</span> │\n",
              "└─────────────────────────────────┴────────────────────────┴───────────────┘\n",
              "</pre>\n"
            ]
          },
          "metadata": {}
        },
        {
          "output_type": "display_data",
          "data": {
            "text/plain": [
              "\u001b[1m Total params: \u001b[0m\u001b[38;5;34m71\u001b[0m (284.00 B)\n"
            ],
            "text/html": [
              "<pre style=\"white-space:pre;overflow-x:auto;line-height:normal;font-family:Menlo,'DejaVu Sans Mono',consolas,'Courier New',monospace\"><span style=\"font-weight: bold\"> Total params: </span><span style=\"color: #00af00; text-decoration-color: #00af00\">71</span> (284.00 B)\n",
              "</pre>\n"
            ]
          },
          "metadata": {}
        },
        {
          "output_type": "display_data",
          "data": {
            "text/plain": [
              "\u001b[1m Trainable params: \u001b[0m\u001b[38;5;34m71\u001b[0m (284.00 B)\n"
            ],
            "text/html": [
              "<pre style=\"white-space:pre;overflow-x:auto;line-height:normal;font-family:Menlo,'DejaVu Sans Mono',consolas,'Courier New',monospace\"><span style=\"font-weight: bold\"> Trainable params: </span><span style=\"color: #00af00; text-decoration-color: #00af00\">71</span> (284.00 B)\n",
              "</pre>\n"
            ]
          },
          "metadata": {}
        },
        {
          "output_type": "display_data",
          "data": {
            "text/plain": [
              "\u001b[1m Non-trainable params: \u001b[0m\u001b[38;5;34m0\u001b[0m (0.00 B)\n"
            ],
            "text/html": [
              "<pre style=\"white-space:pre;overflow-x:auto;line-height:normal;font-family:Menlo,'DejaVu Sans Mono',consolas,'Courier New',monospace\"><span style=\"font-weight: bold\"> Non-trainable params: </span><span style=\"color: #00af00; text-decoration-color: #00af00\">0</span> (0.00 B)\n",
              "</pre>\n"
            ]
          },
          "metadata": {}
        }
      ],
      "source": [
        "# Q9. How do you save and load a TensorFlow model?\n",
        "\n",
        "#code >\n",
        "from tensorflow.keras.models import Sequential, load_model\n",
        "from tensorflow.keras.layers import Dense\n",
        "\n",
        "# Define and compile model\n",
        "model = Sequential([\n",
        "    Dense(10, activation='relu', input_shape=(5,)),\n",
        "    Dense(1, activation='sigmoid')\n",
        "])\n",
        "model.compile(optimizer='adam', loss='binary_crossentropy')\n",
        "\n",
        "# Save model without optimizer state\n",
        "model.save(\"my_model.keras\", include_optimizer=False)\n",
        "\n",
        "# Load model\n",
        "loaded_model = load_model(\"my_model.keras\", compile=False)\n",
        "\n",
        "#example\n",
        "# Print model structure\n",
        "loaded_model.summary()"
      ]
    },
    {
      "cell_type": "code",
      "source": [],
      "metadata": {
        "id": "sXe6HsIgjz_O"
      },
      "id": "sXe6HsIgjz_O",
      "execution_count": null,
      "outputs": []
    }
  ],
  "metadata": {
    "colab": {
      "provenance": [],
      "gpuType": "T4"
    },
    "language_info": {
      "name": "python"
    },
    "kernelspec": {
      "name": "python3",
      "display_name": "Python 3"
    },
    "accelerator": "GPU"
  },
  "nbformat": 4,
  "nbformat_minor": 5
}