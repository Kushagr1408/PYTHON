{
 "cells": [
  {
   "cell_type": "code",
   "execution_count": null,
   "id": "5d8fb38c-9c3e-4b9f-9bcb-c1c80349db4b",
   "metadata": {},
   "outputs": [],
   "source": [
    "1.What is a Convolutional Neural Network (CNN), and why is it used for image processing?\n",
    "\n",
    "A CNN is a type of deep learning model designed to process structured grid-like data,\n",
    "such as images. It uses convolutional layers to extract spatial and hierarchical features,\n",
    "making it highly effective for image recognition and computer vision tasks."
   ]
  },
  {
   "cell_type": "code",
   "execution_count": null,
   "id": "db89e954-49ed-45cf-ae4b-ce10b000b63c",
   "metadata": {},
   "outputs": [],
   "source": [
    "2.What are the key components of a CNN architecture?\n",
    "\n",
    "Convolutional layers\n",
    "Activation functions (e.g., ReLU)\n",
    "Pooling layers (e.g., max-pooling)\n",
    "Fully connected layers\n",
    "Dropout (for regularization)"
   ]
  },
  {
   "cell_type": "code",
   "execution_count": null,
   "id": "db647d8c-645f-423f-98fc-a6cf9ff84eda",
   "metadata": {},
   "outputs": [],
   "source": [
    "3.What is the role of the convolutional layer in CNNs?\n",
    "\n",
    "The convolutional layer applies filters (kernels) to extract features like edges,\n",
    "textures, or patterns from input images."
   ]
  },
  {
   "cell_type": "code",
   "execution_count": null,
   "id": "282a0769-a291-4e18-ab96-dd97395b8489",
   "metadata": {},
   "outputs": [],
   "source": [
    "4.What is a filter (kernel) in CNNs?\n",
    "\n",
    "A filter is a small matrix that slides over an image to compute feature maps \n",
    "by performing element-wise multiplication and summing the results."
   ]
  },
  {
   "cell_type": "code",
   "execution_count": null,
   "id": "9423aab4-46bb-449d-ab1d-7ea0bdc44e8e",
   "metadata": {},
   "outputs": [],
   "source": [
    "5.What is pooling in CNNs, and why is it important?\n",
    "\n",
    "Pooling reduces the spatial dimensions of feature maps, which decreases computational cost \n",
    "and helps make the model invariant to small transformations in the input."
   ]
  },
  {
   "cell_type": "code",
   "execution_count": null,
   "id": "f61e82af-943e-45f3-8a48-9e3885987440",
   "metadata": {},
   "outputs": [],
   "source": [
    "6.What are the common types of pooling used in CNNs?\n",
    "\n",
    "Max-pooling: Selects the maximum value from a region.\n",
    "Average-pooling: Computes the average of values in a region."
   ]
  },
  {
   "cell_type": "code",
   "execution_count": null,
   "id": "74b3db67-20b5-4c03-a42d-219516459050",
   "metadata": {},
   "outputs": [],
   "source": [
    "7.How does the backpropagation algorithm work in CNNs?\n",
    "\n",
    "Backpropagation in CNNs adjusts the weights of the filters using the gradient of the loss\n",
    "function with respect to these weights, propagating errors backward through convolutional,\n",
    "pooling, and fully connected layers."
   ]
  },
  {
   "cell_type": "code",
   "execution_count": null,
   "id": "99cc24c6-b004-4664-a945-897ae6a8bd2a",
   "metadata": {},
   "outputs": [],
   "source": [
    "8.What is the role of activation functions in CNNs?\n",
    "\n",
    "Activation functions (e.g., ReLU, sigmoid) introduce non-linearity,\n",
    "allowing the CNN to learn complex patterns."
   ]
  },
  {
   "cell_type": "code",
   "execution_count": null,
   "id": "04d174e7-a683-4a6c-9042-661bb611b0d9",
   "metadata": {},
   "outputs": [],
   "source": [
    "9.What is the concept of negative fields in CNNs?\n",
    "\n",
    "Likely a reference to receptive fields. The receptive field is the region \n",
    "of input data that affects a particular feature in the output feature map."
   ]
  },
  {
   "cell_type": "code",
   "execution_count": null,
   "id": "2d32d5b5-5ea9-472c-9b7d-3fa13f97708d",
   "metadata": {},
   "outputs": [],
   "source": [
    "10.Explain the concept of tensor space in CNNs.\n",
    "\n",
    "Tensor space represents the multidimensional arrays that are processed\n",
    "at each layer in CNNs (e.g., input images, feature maps, weights)."
   ]
  },
  {
   "cell_type": "code",
   "execution_count": null,
   "id": "0cce0ab6-bf6e-47f0-85b1-bfb9aaccdefe",
   "metadata": {},
   "outputs": [],
   "source": [
    "11.What is LeNet-5, and how does it contribute to the development of CNNs?\n",
    "\n",
    "LeNet-5 is one of the first CNN architectures, introduced by Yann LeCun in 1998, \n",
    "designed for digit recognition (e.g., MNIST). It demonstrated the power of convolutional\n",
    "layers and pooling."
   ]
  },
  {
   "cell_type": "code",
   "execution_count": null,
   "id": "e2ff100b-6a1c-44a1-9956-24cd2ddea022",
   "metadata": {},
   "outputs": [],
   "source": [
    "12.What is AlexNet, and why was it a breakthrough in deep learning?\n",
    "\n",
    "AlexNet (2012) introduced deeper convolutional layers, ReLU activations, dropout,\n",
    "and GPU training, achieving unprecedented results in the ImageNet challenge."
   ]
  },
  {
   "cell_type": "code",
   "execution_count": null,
   "id": "45a9498e-c4be-4393-8cc6-49e3788fc087",
   "metadata": {},
   "outputs": [],
   "source": [
    "13.What is VGGNet, and how does it differ from AlexNet?\n",
    "\n",
    "VGGNet uses smaller 3x3 filters and stacks more convolutional layers,\n",
    "leading to deeper and more accurate models compared to AlexNet."
   ]
  },
  {
   "cell_type": "code",
   "execution_count": null,
   "id": "80b1cd8b-5316-42b3-bdb4-7ca67bcb581b",
   "metadata": {},
   "outputs": [],
   "source": [
    "14.What is GoogLeNet, and what is its main innovation?\n",
    "\n",
    "GoogLeNet introduced the Inception module, which computes\n",
    "convolutions at multiple scales (1x1, 3x3, 5x5) in parallel."
   ]
  },
  {
   "cell_type": "code",
   "execution_count": null,
   "id": "63eef0cc-570e-49f3-aa41-5479f9598f92",
   "metadata": {},
   "outputs": [],
   "source": [
    "15.What is ResNet, and what problem does it solve?\n",
    "\n",
    "ResNet (Residual Network) uses skip connections to solve the vanishing gradient problem,\n",
    "enabling training of very deep networks."
   ]
  },
  {
   "cell_type": "code",
   "execution_count": null,
   "id": "7c9f9c19-c227-4a95-af63-47d106a9be5e",
   "metadata": {},
   "outputs": [],
   "source": [
    "16.What is DenseNet, and how does it differ from ResNet?\n",
    "\n",
    "DenseNet connects each layer to every other layer to improve\n",
    "feature reuse and reduce the number of parameters."
   ]
  },
  {
   "cell_type": "code",
   "execution_count": null,
   "id": "904cc048-38df-4084-942f-7340d7c639d6",
   "metadata": {},
   "outputs": [],
   "source": [
    "17.What are the main steps involved in training a CNN from scratch?\n",
    "\n",
    "Data preprocessing\n",
    "Initializing weights\n",
    "Forward propagation\n",
    "Loss computation\n",
    "Backpropagation and weight updates\n",
    "Evaluation and tuning"
   ]
  },
  {
   "cell_type": "markdown",
   "id": "ed296673-aff2-4fc8-85fc-1122627e81b3",
   "metadata": {},
   "source": [
    "                                         Practical"
   ]
  },
  {
   "cell_type": "code",
   "execution_count": null,
   "id": "3f05c627-19d7-4568-a9bd-5c602ac2eb8f",
   "metadata": {},
   "outputs": [],
   "source": [
    "1.Implement a basic convolution operation using a filter and a 5x5 image (matrix).\n",
    "Example:\n",
    "\n",
    "import numpy as np\n",
    "\n",
    "image = np.random.rand(5, 5)\n",
    "filter = np.array([[1, 0, -1], [1, 0, -1], [1, 0, -1]])  # Edge-detection filter\n",
    "result = np.zeros((3, 3))\n",
    "\n",
    "for i in range(3):\n",
    "    for j in range(3):\n",
    "        result[i, j] = np.sum(image[i:i+3, j:j+3] * filter)\n",
    "print(result)"
   ]
  },
  {
   "cell_type": "code",
   "execution_count": null,
   "id": "8457d142-ae09-428b-b822-ea952fa0f858",
   "metadata": {},
   "outputs": [],
   "source": [
    "2.Implement max pooling on a 4x4 feature map with a 2x2 window.\n",
    "\n",
    "feature_map = np.random.rand(4, 4)\n",
    "pooled = np.zeros((2, 2))\n",
    "\n",
    "for i in range(0, 4, 2):\n",
    "    for j in range(0, 4, 2):\n",
    "        pooled[i//2, j//2] = np.max(feature_map[i:i+2, j:j+2])\n",
    "print(pooled)"
   ]
  },
  {
   "cell_type": "code",
   "execution_count": null,
   "id": "51d0b1da-3ba4-49ad-af49-260b217fbdd1",
   "metadata": {},
   "outputs": [],
   "source": [
    "3.Implement the ReLU activation function on a feature map.\n",
    "\n",
    "relu = lambda x: np.maximum(0, x)\n",
    "activated_map = relu(feature_map)"
   ]
  },
  {
   "cell_type": "code",
   "execution_count": null,
   "id": "4dfe79ce-fbbd-4249-8bc1-4e5c5078a656",
   "metadata": {},
   "outputs": [],
   "source": [
    "4.Create a simple CNN model with one convolutional layer and a fully connected layer, using random\n",
    "data.\n",
    "Example:\n",
    "\n",
    "from tensorflow.keras.models import Sequential\n",
    "from tensorflow.keras.layers import Conv2D, Flatten, Dense\n",
    "\n",
    "model = Sequential([\n",
    "    Conv2D(32, (3, 3), activation='relu', input_shape=(28, 28, 1)),\n",
    "    Flatten(),\n",
    "    Dense(10, activation='softmax')\n",
    "])\n",
    "model.compile(optimizer='adam', loss='categorical_crossentropy', metrics=['accuracy'])"
   ]
  },
  {
   "cell_type": "code",
   "execution_count": null,
   "id": "67eab060-e65b-4221-b589-7ff101229cb9",
   "metadata": {},
   "outputs": [],
   "source": [
    "5.Generate a synthetic dataset using random noise and train a simple CNN model on it.\n",
    "\n",
    "import numpy as np\n",
    "from tensorflow.keras.utils import to_categorical\n",
    "\n",
    "X = np.random.rand(1000, 28, 28, 1)\n",
    "y = to_categorical(np.random.randint(0, 10, 1000), 10)\n",
    "\n",
    "model.fit(X, y, epochs=5)"
   ]
  },
  {
   "cell_type": "code",
   "execution_count": null,
   "id": "985ed370-04f9-4b74-848a-a4cec76a666e",
   "metadata": {},
   "outputs": [],
   "source": [
    "6.Create a simple CNN using Keras with one convolution layer and a max-pooling layer.\n",
    "Example:\n",
    "\n",
    "model = Sequential([\n",
    "    Conv2D(32, (3, 3), activation='relu', input_shape=(28, 28, 1)),\n",
    "    MaxPooling2D((2, 2)),\n",
    "    Flatten(),\n",
    "    Dense(10, activation='softmax')\n",
    "])"
   ]
  },
  {
   "cell_type": "code",
   "execution_count": null,
   "id": "884c0198-53e3-45e2-9c7c-30834d7d528b",
   "metadata": {},
   "outputs": [],
   "source": [
    "7.Write a code to add batch normalization to a simple CNN model.\n",
    "\n",
    "from tensorflow.keras.layers import BatchNormalization\n",
    "\n",
    "model = Sequential([\n",
    "    Conv2D(32, (3, 3), activation='relu', input_shape=(28, 28, 1)),\n",
    "    BatchNormalization(),\n",
    "    MaxPooling2D((2, 2)),\n",
    "    Flatten(),\n",
    "    Dense(10, activation='softmax')\n",
    "])"
   ]
  },
  {
   "cell_type": "code",
   "execution_count": null,
   "id": "b503ba70-2cc3-46a0-b68e-e69e68f4e0e8",
   "metadata": {},
   "outputs": [],
   "source": [
    "8.Write a code to plot the architecture of the VGG16 model in Keras.\n",
    "\n",
    "from tensorflow.keras.applications import VGG16\n",
    "from tensorflow.keras.utils import plot_model\n",
    "model = VGG16()\n",
    "plot_model(model, to_file='vgg16.png', show_shapes=True)"
   ]
  },
  {
   "cell_type": "code",
   "execution_count": null,
   "id": "3e9ba3b5-20b3-44ae-a9e9-c2935f333184",
   "metadata": {},
   "outputs": [],
   "source": [
    "9.Write a code to print the accuracy and loss graphs for training a CNN model.\n",
    "\n",
    "history = model.fit(X_train, y_train, epochs=10, validation_data=(X_val, y_val))\n",
    "\n",
    "plt.plot(history.history['loss'], label='Train Loss')\n",
    "plt.plot(history.history['val_loss'], label='Validation Loss')\n",
    "plt.xlabel('Epochs')\n",
    "plt.ylabel('Loss')\n",
    "plt.legend()\n",
    "plt.show()"
   ]
  }
 ],
 "metadata": {
  "kernelspec": {
   "display_name": "Python 3 (ipykernel)",
   "language": "python",
   "name": "python3"
  },
  "language_info": {
   "codemirror_mode": {
    "name": "ipython",
    "version": 3
   },
   "file_extension": ".py",
   "mimetype": "text/x-python",
   "name": "python",
   "nbconvert_exporter": "python",
   "pygments_lexer": "ipython3",
   "version": "3.12.4"
  }
 },
 "nbformat": 4,
 "nbformat_minor": 5
}
